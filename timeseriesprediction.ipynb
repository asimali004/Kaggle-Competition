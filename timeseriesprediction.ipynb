{
 "cells": [
  {
   "cell_type": "code",
   "execution_count": 1,
   "id": "bbccb1f3",
   "metadata": {
    "_cell_guid": "b1076dfc-b9ad-4769-8c92-a6c4dae69d19",
    "_uuid": "8f2839f25d086af736a60e9eeb907d3b93b6e0e5",
    "execution": {
     "iopub.execute_input": "2022-09-12T03:54:57.705876Z",
     "iopub.status.busy": "2022-09-12T03:54:57.705381Z",
     "iopub.status.idle": "2022-09-12T03:54:57.721696Z",
     "shell.execute_reply": "2022-09-12T03:54:57.720084Z"
    },
    "papermill": {
     "duration": 0.027336,
     "end_time": "2022-09-12T03:54:57.723940",
     "exception": false,
     "start_time": "2022-09-12T03:54:57.696604",
     "status": "completed"
    },
    "tags": []
   },
   "outputs": [
    {
     "name": "stdout",
     "output_type": "stream",
     "text": [
      "/kaggle/input/tabular-playground-series-sep-2022/sample_submission.csv\n",
      "/kaggle/input/tabular-playground-series-sep-2022/train.csv\n",
      "/kaggle/input/tabular-playground-series-sep-2022/test.csv\n"
     ]
    }
   ],
   "source": [
    "# This Python 3 environment comes with many helpful analytics libraries installed\n",
    "# It is defined by the kaggle/python Docker image: https://github.com/kaggle/docker-python\n",
    "# For example, here's several helpful packages to load\n",
    "\n",
    "import numpy as np # linear algebra\n",
    "import pandas as pd # data processing, CSV file I/O (e.g. pd.read_csv)\n",
    "\n",
    "# Input data files are available in the read-only \"../input/\" directory\n",
    "# For example, running this (by clicking run or pressing Shift+Enter) will list all files under the input directory\n",
    "\n",
    "import os\n",
    "for dirname, _, filenames in os.walk('/kaggle/input'):\n",
    "    for filename in filenames:\n",
    "        print(os.path.join(dirname, filename))\n",
    "\n",
    "# You can write up to 20GB to the current directory (/kaggle/working/) that gets preserved as output when you create a version using \"Save & Run All\" \n",
    "# You can also write temporary files to /kaggle/temp/, but they won't be saved outside of the current session"
   ]
  },
  {
   "cell_type": "code",
   "execution_count": 2,
   "id": "7652fc71",
   "metadata": {
    "execution": {
     "iopub.execute_input": "2022-09-12T03:54:57.738796Z",
     "iopub.status.busy": "2022-09-12T03:54:57.738469Z",
     "iopub.status.idle": "2022-09-12T03:54:57.839213Z",
     "shell.execute_reply": "2022-09-12T03:54:57.838548Z"
    },
    "papermill": {
     "duration": 0.110703,
     "end_time": "2022-09-12T03:54:57.841425",
     "exception": false,
     "start_time": "2022-09-12T03:54:57.730722",
     "status": "completed"
    },
    "tags": []
   },
   "outputs": [],
   "source": [
    "df = pd.read_csv(\"/kaggle/input/tabular-playground-series-sep-2022/train.csv\")"
   ]
  },
  {
   "cell_type": "code",
   "execution_count": 3,
   "id": "b78abca3",
   "metadata": {
    "execution": {
     "iopub.execute_input": "2022-09-12T03:54:57.856301Z",
     "iopub.status.busy": "2022-09-12T03:54:57.855790Z",
     "iopub.status.idle": "2022-09-12T03:54:57.883292Z",
     "shell.execute_reply": "2022-09-12T03:54:57.882148Z"
    },
    "papermill": {
     "duration": 0.03829,
     "end_time": "2022-09-12T03:54:57.886413",
     "exception": false,
     "start_time": "2022-09-12T03:54:57.848123",
     "status": "completed"
    },
    "tags": []
   },
   "outputs": [
    {
     "data": {
      "text/html": [
       "<div>\n",
       "<style scoped>\n",
       "    .dataframe tbody tr th:only-of-type {\n",
       "        vertical-align: middle;\n",
       "    }\n",
       "\n",
       "    .dataframe tbody tr th {\n",
       "        vertical-align: top;\n",
       "    }\n",
       "\n",
       "    .dataframe thead th {\n",
       "        text-align: right;\n",
       "    }\n",
       "</style>\n",
       "<table border=\"1\" class=\"dataframe\">\n",
       "  <thead>\n",
       "    <tr style=\"text-align: right;\">\n",
       "      <th></th>\n",
       "      <th>date</th>\n",
       "      <th>country</th>\n",
       "      <th>store</th>\n",
       "      <th>product</th>\n",
       "      <th>num_sold</th>\n",
       "    </tr>\n",
       "  </thead>\n",
       "  <tbody>\n",
       "    <tr>\n",
       "      <th>53439</th>\n",
       "      <td>2020-01-19</td>\n",
       "      <td>France</td>\n",
       "      <td>KaggleRama</td>\n",
       "      <td>Kaggle for Kids: One Smart Goose</td>\n",
       "      <td>163</td>\n",
       "    </tr>\n",
       "    <tr>\n",
       "      <th>67244</th>\n",
       "      <td>2020-11-01</td>\n",
       "      <td>Spain</td>\n",
       "      <td>KaggleRama</td>\n",
       "      <td>Kaggle Advanced Techniques</td>\n",
       "      <td>121</td>\n",
       "    </tr>\n",
       "    <tr>\n",
       "      <th>49858</th>\n",
       "      <td>2019-11-05</td>\n",
       "      <td>Poland</td>\n",
       "      <td>KaggleMart</td>\n",
       "      <td>Kaggle Recipe Book</td>\n",
       "      <td>95</td>\n",
       "    </tr>\n",
       "    <tr>\n",
       "      <th>65256</th>\n",
       "      <td>2020-09-21</td>\n",
       "      <td>Italy</td>\n",
       "      <td>KaggleMart</td>\n",
       "      <td>Kaggle Advanced Techniques</td>\n",
       "      <td>290</td>\n",
       "    </tr>\n",
       "  </tbody>\n",
       "</table>\n",
       "</div>"
      ],
      "text/plain": [
       "             date country       store                           product  \\\n",
       "53439  2020-01-19  France  KaggleRama  Kaggle for Kids: One Smart Goose   \n",
       "67244  2020-11-01   Spain  KaggleRama        Kaggle Advanced Techniques   \n",
       "49858  2019-11-05  Poland  KaggleMart                Kaggle Recipe Book   \n",
       "65256  2020-09-21   Italy  KaggleMart        Kaggle Advanced Techniques   \n",
       "\n",
       "       num_sold  \n",
       "53439       163  \n",
       "67244       121  \n",
       "49858        95  \n",
       "65256       290  "
      ]
     },
     "execution_count": 3,
     "metadata": {},
     "output_type": "execute_result"
    }
   ],
   "source": [
    "df=df.iloc[:,[1,2,3,4,5]]\n",
    "df.sample(4)"
   ]
  },
  {
   "cell_type": "code",
   "execution_count": 4,
   "id": "98047aa8",
   "metadata": {
    "execution": {
     "iopub.execute_input": "2022-09-12T03:54:57.901678Z",
     "iopub.status.busy": "2022-09-12T03:54:57.901382Z",
     "iopub.status.idle": "2022-09-12T03:54:57.935171Z",
     "shell.execute_reply": "2022-09-12T03:54:57.932920Z"
    },
    "papermill": {
     "duration": 0.043717,
     "end_time": "2022-09-12T03:54:57.937066",
     "exception": false,
     "start_time": "2022-09-12T03:54:57.893349",
     "status": "completed"
    },
    "tags": []
   },
   "outputs": [
    {
     "name": "stdout",
     "output_type": "stream",
     "text": [
      "<class 'pandas.core.frame.DataFrame'>\n",
      "RangeIndex: 70128 entries, 0 to 70127\n",
      "Data columns (total 5 columns):\n",
      " #   Column    Non-Null Count  Dtype \n",
      "---  ------    --------------  ----- \n",
      " 0   date      70128 non-null  object\n",
      " 1   country   70128 non-null  object\n",
      " 2   store     70128 non-null  object\n",
      " 3   product   70128 non-null  object\n",
      " 4   num_sold  70128 non-null  int64 \n",
      "dtypes: int64(1), object(4)\n",
      "memory usage: 2.7+ MB\n"
     ]
    }
   ],
   "source": [
    "df.info()"
   ]
  },
  {
   "cell_type": "code",
   "execution_count": 5,
   "id": "a88ac1b0",
   "metadata": {
    "execution": {
     "iopub.execute_input": "2022-09-12T03:54:57.952105Z",
     "iopub.status.busy": "2022-09-12T03:54:57.951561Z",
     "iopub.status.idle": "2022-09-12T03:54:57.969271Z",
     "shell.execute_reply": "2022-09-12T03:54:57.968302Z"
    },
    "papermill": {
     "duration": 0.027806,
     "end_time": "2022-09-12T03:54:57.971572",
     "exception": false,
     "start_time": "2022-09-12T03:54:57.943766",
     "status": "completed"
    },
    "tags": []
   },
   "outputs": [],
   "source": [
    "df.date= pd.DatetimeIndex(df.date)"
   ]
  },
  {
   "cell_type": "code",
   "execution_count": 6,
   "id": "011c336b",
   "metadata": {
    "execution": {
     "iopub.execute_input": "2022-09-12T03:54:57.987112Z",
     "iopub.status.busy": "2022-09-12T03:54:57.986595Z",
     "iopub.status.idle": "2022-09-12T03:54:57.998669Z",
     "shell.execute_reply": "2022-09-12T03:54:57.997234Z"
    },
    "papermill": {
     "duration": 0.022386,
     "end_time": "2022-09-12T03:54:58.000987",
     "exception": false,
     "start_time": "2022-09-12T03:54:57.978601",
     "status": "completed"
    },
    "tags": []
   },
   "outputs": [
    {
     "data": {
      "text/html": [
       "<div>\n",
       "<style scoped>\n",
       "    .dataframe tbody tr th:only-of-type {\n",
       "        vertical-align: middle;\n",
       "    }\n",
       "\n",
       "    .dataframe tbody tr th {\n",
       "        vertical-align: top;\n",
       "    }\n",
       "\n",
       "    .dataframe thead th {\n",
       "        text-align: right;\n",
       "    }\n",
       "</style>\n",
       "<table border=\"1\" class=\"dataframe\">\n",
       "  <thead>\n",
       "    <tr style=\"text-align: right;\">\n",
       "      <th></th>\n",
       "      <th>date</th>\n",
       "      <th>country</th>\n",
       "      <th>store</th>\n",
       "      <th>product</th>\n",
       "      <th>num_sold</th>\n",
       "    </tr>\n",
       "  </thead>\n",
       "  <tbody>\n",
       "    <tr>\n",
       "      <th>0</th>\n",
       "      <td>2017-01-01</td>\n",
       "      <td>Belgium</td>\n",
       "      <td>KaggleMart</td>\n",
       "      <td>Kaggle Advanced Techniques</td>\n",
       "      <td>663</td>\n",
       "    </tr>\n",
       "    <tr>\n",
       "      <th>1</th>\n",
       "      <td>2017-01-01</td>\n",
       "      <td>Belgium</td>\n",
       "      <td>KaggleMart</td>\n",
       "      <td>Kaggle Getting Started</td>\n",
       "      <td>615</td>\n",
       "    </tr>\n",
       "  </tbody>\n",
       "</table>\n",
       "</div>"
      ],
      "text/plain": [
       "        date  country       store                     product  num_sold\n",
       "0 2017-01-01  Belgium  KaggleMart  Kaggle Advanced Techniques       663\n",
       "1 2017-01-01  Belgium  KaggleMart      Kaggle Getting Started       615"
      ]
     },
     "execution_count": 6,
     "metadata": {},
     "output_type": "execute_result"
    }
   ],
   "source": [
    "df.head(2)"
   ]
  },
  {
   "cell_type": "code",
   "execution_count": 7,
   "id": "bd77eb92",
   "metadata": {
    "execution": {
     "iopub.execute_input": "2022-09-12T03:54:58.016107Z",
     "iopub.status.busy": "2022-09-12T03:54:58.014990Z",
     "iopub.status.idle": "2022-09-12T03:54:58.025350Z",
     "shell.execute_reply": "2022-09-12T03:54:58.024528Z"
    },
    "papermill": {
     "duration": 0.020566,
     "end_time": "2022-09-12T03:54:58.028031",
     "exception": false,
     "start_time": "2022-09-12T03:54:58.007465",
     "status": "completed"
    },
    "tags": []
   },
   "outputs": [
    {
     "data": {
      "text/plain": [
       "Belgium    11688\n",
       "France     11688\n",
       "Germany    11688\n",
       "Italy      11688\n",
       "Poland     11688\n",
       "Spain      11688\n",
       "Name: country, dtype: int64"
      ]
     },
     "execution_count": 7,
     "metadata": {},
     "output_type": "execute_result"
    }
   ],
   "source": [
    "df.country.value_counts()"
   ]
  },
  {
   "cell_type": "code",
   "execution_count": 8,
   "id": "64fb0f00",
   "metadata": {
    "execution": {
     "iopub.execute_input": "2022-09-12T03:54:58.045997Z",
     "iopub.status.busy": "2022-09-12T03:54:58.045437Z",
     "iopub.status.idle": "2022-09-12T03:54:58.056226Z",
     "shell.execute_reply": "2022-09-12T03:54:58.054935Z"
    },
    "papermill": {
     "duration": 0.021212,
     "end_time": "2022-09-12T03:54:58.058272",
     "exception": false,
     "start_time": "2022-09-12T03:54:58.037060",
     "status": "completed"
    },
    "tags": []
   },
   "outputs": [
    {
     "data": {
      "text/plain": [
       "KaggleMart    35064\n",
       "KaggleRama    35064\n",
       "Name: store, dtype: int64"
      ]
     },
     "execution_count": 8,
     "metadata": {},
     "output_type": "execute_result"
    }
   ],
   "source": [
    "df.store.value_counts()"
   ]
  },
  {
   "cell_type": "code",
   "execution_count": 9,
   "id": "5efe8bb4",
   "metadata": {
    "execution": {
     "iopub.execute_input": "2022-09-12T03:54:58.074215Z",
     "iopub.status.busy": "2022-09-12T03:54:58.073878Z",
     "iopub.status.idle": "2022-09-12T03:54:58.084232Z",
     "shell.execute_reply": "2022-09-12T03:54:58.083241Z"
    },
    "papermill": {
     "duration": 0.020282,
     "end_time": "2022-09-12T03:54:58.085787",
     "exception": false,
     "start_time": "2022-09-12T03:54:58.065505",
     "status": "completed"
    },
    "tags": []
   },
   "outputs": [
    {
     "data": {
      "text/plain": [
       "Kaggle Advanced Techniques          17532\n",
       "Kaggle Getting Started              17532\n",
       "Kaggle Recipe Book                  17532\n",
       "Kaggle for Kids: One Smart Goose    17532\n",
       "Name: product, dtype: int64"
      ]
     },
     "execution_count": 9,
     "metadata": {},
     "output_type": "execute_result"
    }
   ],
   "source": [
    "df[\"product\"].value_counts()"
   ]
  },
  {
   "cell_type": "code",
   "execution_count": 10,
   "id": "27452be5",
   "metadata": {
    "execution": {
     "iopub.execute_input": "2022-09-12T03:54:58.101626Z",
     "iopub.status.busy": "2022-09-12T03:54:58.100599Z",
     "iopub.status.idle": "2022-09-12T03:54:58.308507Z",
     "shell.execute_reply": "2022-09-12T03:54:58.307435Z"
    },
    "papermill": {
     "duration": 0.218318,
     "end_time": "2022-09-12T03:54:58.310868",
     "exception": false,
     "start_time": "2022-09-12T03:54:58.092550",
     "status": "completed"
    },
    "tags": []
   },
   "outputs": [
    {
     "data": {
      "text/plain": [
       "<AxesSubplot:>"
      ]
     },
     "execution_count": 10,
     "metadata": {},
     "output_type": "execute_result"
    },
    {
     "data": {
      "image/png": "[encoded data removed]",
      "text/plain": [
       "<Figure size 432x288 with 1 Axes>"
      ]
     },
     "metadata": {
      "needs_background": "light"
     },
     "output_type": "display_data"
    }
   ],
   "source": [
    "df.num_sold.hist()"
   ]
  },
  {
   "cell_type": "code",
   "execution_count": 11,
   "id": "396af2b8",
   "metadata": {
    "execution": {
     "iopub.execute_input": "2022-09-12T03:54:58.328238Z",
     "iopub.status.busy": "2022-09-12T03:54:58.326648Z",
     "iopub.status.idle": "2022-09-12T03:54:58.334403Z",
     "shell.execute_reply": "2022-09-12T03:54:58.332950Z"
    },
    "papermill": {
     "duration": 0.018579,
     "end_time": "2022-09-12T03:54:58.336837",
     "exception": false,
     "start_time": "2022-09-12T03:54:58.318258",
     "status": "completed"
    },
    "tags": []
   },
   "outputs": [
    {
     "data": {
      "text/plain": [
       "(70128, 5)"
      ]
     },
     "execution_count": 11,
     "metadata": {},
     "output_type": "execute_result"
    }
   ],
   "source": [
    "df.shape"
   ]
  },
  {
   "cell_type": "code",
   "execution_count": 12,
   "id": "d3986f63",
   "metadata": {
    "execution": {
     "iopub.execute_input": "2022-09-12T03:54:58.354037Z",
     "iopub.status.busy": "2022-09-12T03:54:58.353684Z",
     "iopub.status.idle": "2022-09-12T03:54:59.482424Z",
     "shell.execute_reply": "2022-09-12T03:54:59.481047Z"
    },
    "papermill": {
     "duration": 1.140064,
     "end_time": "2022-09-12T03:54:59.484900",
     "exception": false,
     "start_time": "2022-09-12T03:54:58.344836",
     "status": "completed"
    },
    "tags": []
   },
   "outputs": [
    {
     "data": {
      "text/html": [
       "<div>\n",
       "<style scoped>\n",
       "    .dataframe tbody tr th:only-of-type {\n",
       "        vertical-align: middle;\n",
       "    }\n",
       "\n",
       "    .dataframe tbody tr th {\n",
       "        vertical-align: top;\n",
       "    }\n",
       "\n",
       "    .dataframe thead th {\n",
       "        text-align: right;\n",
       "    }\n",
       "</style>\n",
       "<table border=\"1\" class=\"dataframe\">\n",
       "  <thead>\n",
       "    <tr style=\"text-align: right;\">\n",
       "      <th></th>\n",
       "      <th>0</th>\n",
       "      <th>1</th>\n",
       "      <th>2</th>\n",
       "      <th>3</th>\n",
       "      <th>4</th>\n",
       "      <th>5</th>\n",
       "      <th>6</th>\n",
       "      <th>7</th>\n",
       "      <th>8</th>\n",
       "      <th>9</th>\n",
       "      <th>10</th>\n",
       "      <th>11</th>\n",
       "    </tr>\n",
       "  </thead>\n",
       "  <tbody>\n",
       "    <tr>\n",
       "      <th>0</th>\n",
       "      <td>1.0</td>\n",
       "      <td>0.0</td>\n",
       "      <td>0.0</td>\n",
       "      <td>0.0</td>\n",
       "      <td>0.0</td>\n",
       "      <td>0.0</td>\n",
       "      <td>1.0</td>\n",
       "      <td>0.0</td>\n",
       "      <td>1.0</td>\n",
       "      <td>0.0</td>\n",
       "      <td>0.0</td>\n",
       "      <td>0.0</td>\n",
       "    </tr>\n",
       "    <tr>\n",
       "      <th>1</th>\n",
       "      <td>1.0</td>\n",
       "      <td>0.0</td>\n",
       "      <td>0.0</td>\n",
       "      <td>0.0</td>\n",
       "      <td>0.0</td>\n",
       "      <td>0.0</td>\n",
       "      <td>1.0</td>\n",
       "      <td>0.0</td>\n",
       "      <td>0.0</td>\n",
       "      <td>1.0</td>\n",
       "      <td>0.0</td>\n",
       "      <td>0.0</td>\n",
       "    </tr>\n",
       "    <tr>\n",
       "      <th>2</th>\n",
       "      <td>1.0</td>\n",
       "      <td>0.0</td>\n",
       "      <td>0.0</td>\n",
       "      <td>0.0</td>\n",
       "      <td>0.0</td>\n",
       "      <td>0.0</td>\n",
       "      <td>1.0</td>\n",
       "      <td>0.0</td>\n",
       "      <td>0.0</td>\n",
       "      <td>0.0</td>\n",
       "      <td>1.0</td>\n",
       "      <td>0.0</td>\n",
       "    </tr>\n",
       "    <tr>\n",
       "      <th>3</th>\n",
       "      <td>1.0</td>\n",
       "      <td>0.0</td>\n",
       "      <td>0.0</td>\n",
       "      <td>0.0</td>\n",
       "      <td>0.0</td>\n",
       "      <td>0.0</td>\n",
       "      <td>1.0</td>\n",
       "      <td>0.0</td>\n",
       "      <td>0.0</td>\n",
       "      <td>0.0</td>\n",
       "      <td>0.0</td>\n",
       "      <td>1.0</td>\n",
       "    </tr>\n",
       "    <tr>\n",
       "      <th>4</th>\n",
       "      <td>1.0</td>\n",
       "      <td>0.0</td>\n",
       "      <td>0.0</td>\n",
       "      <td>0.0</td>\n",
       "      <td>0.0</td>\n",
       "      <td>0.0</td>\n",
       "      <td>0.0</td>\n",
       "      <td>1.0</td>\n",
       "      <td>1.0</td>\n",
       "      <td>0.0</td>\n",
       "      <td>0.0</td>\n",
       "      <td>0.0</td>\n",
       "    </tr>\n",
       "    <tr>\n",
       "      <th>...</th>\n",
       "      <td>...</td>\n",
       "      <td>...</td>\n",
       "      <td>...</td>\n",
       "      <td>...</td>\n",
       "      <td>...</td>\n",
       "      <td>...</td>\n",
       "      <td>...</td>\n",
       "      <td>...</td>\n",
       "      <td>...</td>\n",
       "      <td>...</td>\n",
       "      <td>...</td>\n",
       "      <td>...</td>\n",
       "    </tr>\n",
       "    <tr>\n",
       "      <th>70123</th>\n",
       "      <td>0.0</td>\n",
       "      <td>0.0</td>\n",
       "      <td>0.0</td>\n",
       "      <td>0.0</td>\n",
       "      <td>0.0</td>\n",
       "      <td>1.0</td>\n",
       "      <td>1.0</td>\n",
       "      <td>0.0</td>\n",
       "      <td>0.0</td>\n",
       "      <td>0.0</td>\n",
       "      <td>0.0</td>\n",
       "      <td>1.0</td>\n",
       "    </tr>\n",
       "    <tr>\n",
       "      <th>70124</th>\n",
       "      <td>0.0</td>\n",
       "      <td>0.0</td>\n",
       "      <td>0.0</td>\n",
       "      <td>0.0</td>\n",
       "      <td>0.0</td>\n",
       "      <td>1.0</td>\n",
       "      <td>0.0</td>\n",
       "      <td>1.0</td>\n",
       "      <td>1.0</td>\n",
       "      <td>0.0</td>\n",
       "      <td>0.0</td>\n",
       "      <td>0.0</td>\n",
       "    </tr>\n",
       "    <tr>\n",
       "      <th>70125</th>\n",
       "      <td>0.0</td>\n",
       "      <td>0.0</td>\n",
       "      <td>0.0</td>\n",
       "      <td>0.0</td>\n",
       "      <td>0.0</td>\n",
       "      <td>1.0</td>\n",
       "      <td>0.0</td>\n",
       "      <td>1.0</td>\n",
       "      <td>0.0</td>\n",
       "      <td>1.0</td>\n",
       "      <td>0.0</td>\n",
       "      <td>0.0</td>\n",
       "    </tr>\n",
       "    <tr>\n",
       "      <th>70126</th>\n",
       "      <td>0.0</td>\n",
       "      <td>0.0</td>\n",
       "      <td>0.0</td>\n",
       "      <td>0.0</td>\n",
       "      <td>0.0</td>\n",
       "      <td>1.0</td>\n",
       "      <td>0.0</td>\n",
       "      <td>1.0</td>\n",
       "      <td>0.0</td>\n",
       "      <td>0.0</td>\n",
       "      <td>1.0</td>\n",
       "      <td>0.0</td>\n",
       "    </tr>\n",
       "    <tr>\n",
       "      <th>70127</th>\n",
       "      <td>0.0</td>\n",
       "      <td>0.0</td>\n",
       "      <td>0.0</td>\n",
       "      <td>0.0</td>\n",
       "      <td>0.0</td>\n",
       "      <td>1.0</td>\n",
       "      <td>0.0</td>\n",
       "      <td>1.0</td>\n",
       "      <td>0.0</td>\n",
       "      <td>0.0</td>\n",
       "      <td>0.0</td>\n",
       "      <td>1.0</td>\n",
       "    </tr>\n",
       "  </tbody>\n",
       "</table>\n",
       "<p>70128 rows × 12 columns</p>\n",
       "</div>"
      ],
      "text/plain": [
       "        0    1    2    3    4    5    6    7    8    9    10   11\n",
       "0      1.0  0.0  0.0  0.0  0.0  0.0  1.0  0.0  1.0  0.0  0.0  0.0\n",
       "1      1.0  0.0  0.0  0.0  0.0  0.0  1.0  0.0  0.0  1.0  0.0  0.0\n",
       "2      1.0  0.0  0.0  0.0  0.0  0.0  1.0  0.0  0.0  0.0  1.0  0.0\n",
       "3      1.0  0.0  0.0  0.0  0.0  0.0  1.0  0.0  0.0  0.0  0.0  1.0\n",
       "4      1.0  0.0  0.0  0.0  0.0  0.0  0.0  1.0  1.0  0.0  0.0  0.0\n",
       "...    ...  ...  ...  ...  ...  ...  ...  ...  ...  ...  ...  ...\n",
       "70123  0.0  0.0  0.0  0.0  0.0  1.0  1.0  0.0  0.0  0.0  0.0  1.0\n",
       "70124  0.0  0.0  0.0  0.0  0.0  1.0  0.0  1.0  1.0  0.0  0.0  0.0\n",
       "70125  0.0  0.0  0.0  0.0  0.0  1.0  0.0  1.0  0.0  1.0  0.0  0.0\n",
       "70126  0.0  0.0  0.0  0.0  0.0  1.0  0.0  1.0  0.0  0.0  1.0  0.0\n",
       "70127  0.0  0.0  0.0  0.0  0.0  1.0  0.0  1.0  0.0  0.0  0.0  1.0\n",
       "\n",
       "[70128 rows x 12 columns]"
      ]
     },
     "execution_count": 12,
     "metadata": {},
     "output_type": "execute_result"
    }
   ],
   "source": [
    "x = df.iloc[:,[0,1,2,3]]\n",
    "from sklearn.preprocessing import OneHotEncoder\n",
    "ohe = OneHotEncoder()\n",
    "final = ohe.fit_transform(x.iloc[:,[1,2,3]])\n",
    "final = pd.DataFrame(final.toarray())\n",
    "final"
   ]
  },
  {
   "cell_type": "code",
   "execution_count": 13,
   "id": "69b2cf03",
   "metadata": {
    "execution": {
     "iopub.execute_input": "2022-09-12T03:54:59.502338Z",
     "iopub.status.busy": "2022-09-12T03:54:59.502018Z",
     "iopub.status.idle": "2022-09-12T03:54:59.519526Z",
     "shell.execute_reply": "2022-09-12T03:54:59.517874Z"
    },
    "papermill": {
     "duration": 0.029205,
     "end_time": "2022-09-12T03:54:59.522189",
     "exception": false,
     "start_time": "2022-09-12T03:54:59.492984",
     "status": "completed"
    },
    "tags": []
   },
   "outputs": [],
   "source": [
    "final['Day'] = pd.DatetimeIndex(df['date']).day\n",
    "final['Month'] = pd.DatetimeIndex(df['date']).month\n",
    "final['Year'] = pd.DatetimeIndex(df['date']).year"
   ]
  },
  {
   "cell_type": "code",
   "execution_count": 14,
   "id": "e231d43c",
   "metadata": {
    "execution": {
     "iopub.execute_input": "2022-09-12T03:54:59.539318Z",
     "iopub.status.busy": "2022-09-12T03:54:59.538990Z",
     "iopub.status.idle": "2022-09-12T03:54:59.565871Z",
     "shell.execute_reply": "2022-09-12T03:54:59.564846Z"
    },
    "papermill": {
     "duration": 0.038051,
     "end_time": "2022-09-12T03:54:59.568153",
     "exception": false,
     "start_time": "2022-09-12T03:54:59.530102",
     "status": "completed"
    },
    "tags": []
   },
   "outputs": [
    {
     "data": {
      "text/html": [
       "<div>\n",
       "<style scoped>\n",
       "    .dataframe tbody tr th:only-of-type {\n",
       "        vertical-align: middle;\n",
       "    }\n",
       "\n",
       "    .dataframe tbody tr th {\n",
       "        vertical-align: top;\n",
       "    }\n",
       "\n",
       "    .dataframe thead th {\n",
       "        text-align: right;\n",
       "    }\n",
       "</style>\n",
       "<table border=\"1\" class=\"dataframe\">\n",
       "  <thead>\n",
       "    <tr style=\"text-align: right;\">\n",
       "      <th></th>\n",
       "      <th>0</th>\n",
       "      <th>1</th>\n",
       "      <th>2</th>\n",
       "      <th>3</th>\n",
       "      <th>4</th>\n",
       "      <th>5</th>\n",
       "      <th>6</th>\n",
       "      <th>7</th>\n",
       "      <th>8</th>\n",
       "      <th>9</th>\n",
       "      <th>10</th>\n",
       "      <th>11</th>\n",
       "      <th>Day</th>\n",
       "      <th>Month</th>\n",
       "      <th>Year</th>\n",
       "    </tr>\n",
       "  </thead>\n",
       "  <tbody>\n",
       "    <tr>\n",
       "      <th>0</th>\n",
       "      <td>1.0</td>\n",
       "      <td>0.0</td>\n",
       "      <td>0.0</td>\n",
       "      <td>0.0</td>\n",
       "      <td>0.0</td>\n",
       "      <td>0.0</td>\n",
       "      <td>1.0</td>\n",
       "      <td>0.0</td>\n",
       "      <td>1.0</td>\n",
       "      <td>0.0</td>\n",
       "      <td>0.0</td>\n",
       "      <td>0.0</td>\n",
       "      <td>1</td>\n",
       "      <td>1</td>\n",
       "      <td>2017</td>\n",
       "    </tr>\n",
       "    <tr>\n",
       "      <th>1</th>\n",
       "      <td>1.0</td>\n",
       "      <td>0.0</td>\n",
       "      <td>0.0</td>\n",
       "      <td>0.0</td>\n",
       "      <td>0.0</td>\n",
       "      <td>0.0</td>\n",
       "      <td>1.0</td>\n",
       "      <td>0.0</td>\n",
       "      <td>0.0</td>\n",
       "      <td>1.0</td>\n",
       "      <td>0.0</td>\n",
       "      <td>0.0</td>\n",
       "      <td>1</td>\n",
       "      <td>1</td>\n",
       "      <td>2017</td>\n",
       "    </tr>\n",
       "    <tr>\n",
       "      <th>2</th>\n",
       "      <td>1.0</td>\n",
       "      <td>0.0</td>\n",
       "      <td>0.0</td>\n",
       "      <td>0.0</td>\n",
       "      <td>0.0</td>\n",
       "      <td>0.0</td>\n",
       "      <td>1.0</td>\n",
       "      <td>0.0</td>\n",
       "      <td>0.0</td>\n",
       "      <td>0.0</td>\n",
       "      <td>1.0</td>\n",
       "      <td>0.0</td>\n",
       "      <td>1</td>\n",
       "      <td>1</td>\n",
       "      <td>2017</td>\n",
       "    </tr>\n",
       "    <tr>\n",
       "      <th>3</th>\n",
       "      <td>1.0</td>\n",
       "      <td>0.0</td>\n",
       "      <td>0.0</td>\n",
       "      <td>0.0</td>\n",
       "      <td>0.0</td>\n",
       "      <td>0.0</td>\n",
       "      <td>1.0</td>\n",
       "      <td>0.0</td>\n",
       "      <td>0.0</td>\n",
       "      <td>0.0</td>\n",
       "      <td>0.0</td>\n",
       "      <td>1.0</td>\n",
       "      <td>1</td>\n",
       "      <td>1</td>\n",
       "      <td>2017</td>\n",
       "    </tr>\n",
       "    <tr>\n",
       "      <th>4</th>\n",
       "      <td>1.0</td>\n",
       "      <td>0.0</td>\n",
       "      <td>0.0</td>\n",
       "      <td>0.0</td>\n",
       "      <td>0.0</td>\n",
       "      <td>0.0</td>\n",
       "      <td>0.0</td>\n",
       "      <td>1.0</td>\n",
       "      <td>1.0</td>\n",
       "      <td>0.0</td>\n",
       "      <td>0.0</td>\n",
       "      <td>0.0</td>\n",
       "      <td>1</td>\n",
       "      <td>1</td>\n",
       "      <td>2017</td>\n",
       "    </tr>\n",
       "    <tr>\n",
       "      <th>...</th>\n",
       "      <td>...</td>\n",
       "      <td>...</td>\n",
       "      <td>...</td>\n",
       "      <td>...</td>\n",
       "      <td>...</td>\n",
       "      <td>...</td>\n",
       "      <td>...</td>\n",
       "      <td>...</td>\n",
       "      <td>...</td>\n",
       "      <td>...</td>\n",
       "      <td>...</td>\n",
       "      <td>...</td>\n",
       "      <td>...</td>\n",
       "      <td>...</td>\n",
       "      <td>...</td>\n",
       "    </tr>\n",
       "    <tr>\n",
       "      <th>70123</th>\n",
       "      <td>0.0</td>\n",
       "      <td>0.0</td>\n",
       "      <td>0.0</td>\n",
       "      <td>0.0</td>\n",
       "      <td>0.0</td>\n",
       "      <td>1.0</td>\n",
       "      <td>1.0</td>\n",
       "      <td>0.0</td>\n",
       "      <td>0.0</td>\n",
       "      <td>0.0</td>\n",
       "      <td>0.0</td>\n",
       "      <td>1.0</td>\n",
       "      <td>31</td>\n",
       "      <td>12</td>\n",
       "      <td>2020</td>\n",
       "    </tr>\n",
       "    <tr>\n",
       "      <th>70124</th>\n",
       "      <td>0.0</td>\n",
       "      <td>0.0</td>\n",
       "      <td>0.0</td>\n",
       "      <td>0.0</td>\n",
       "      <td>0.0</td>\n",
       "      <td>1.0</td>\n",
       "      <td>0.0</td>\n",
       "      <td>1.0</td>\n",
       "      <td>1.0</td>\n",
       "      <td>0.0</td>\n",
       "      <td>0.0</td>\n",
       "      <td>0.0</td>\n",
       "      <td>31</td>\n",
       "      <td>12</td>\n",
       "      <td>2020</td>\n",
       "    </tr>\n",
       "    <tr>\n",
       "      <th>70125</th>\n",
       "      <td>0.0</td>\n",
       "      <td>0.0</td>\n",
       "      <td>0.0</td>\n",
       "      <td>0.0</td>\n",
       "      <td>0.0</td>\n",
       "      <td>1.0</td>\n",
       "      <td>0.0</td>\n",
       "      <td>1.0</td>\n",
       "      <td>0.0</td>\n",
       "      <td>1.0</td>\n",
       "      <td>0.0</td>\n",
       "      <td>0.0</td>\n",
       "      <td>31</td>\n",
       "      <td>12</td>\n",
       "      <td>2020</td>\n",
       "    </tr>\n",
       "    <tr>\n",
       "      <th>70126</th>\n",
       "      <td>0.0</td>\n",
       "      <td>0.0</td>\n",
       "      <td>0.0</td>\n",
       "      <td>0.0</td>\n",
       "      <td>0.0</td>\n",
       "      <td>1.0</td>\n",
       "      <td>0.0</td>\n",
       "      <td>1.0</td>\n",
       "      <td>0.0</td>\n",
       "      <td>0.0</td>\n",
       "      <td>1.0</td>\n",
       "      <td>0.0</td>\n",
       "      <td>31</td>\n",
       "      <td>12</td>\n",
       "      <td>2020</td>\n",
       "    </tr>\n",
       "    <tr>\n",
       "      <th>70127</th>\n",
       "      <td>0.0</td>\n",
       "      <td>0.0</td>\n",
       "      <td>0.0</td>\n",
       "      <td>0.0</td>\n",
       "      <td>0.0</td>\n",
       "      <td>1.0</td>\n",
       "      <td>0.0</td>\n",
       "      <td>1.0</td>\n",
       "      <td>0.0</td>\n",
       "      <td>0.0</td>\n",
       "      <td>0.0</td>\n",
       "      <td>1.0</td>\n",
       "      <td>31</td>\n",
       "      <td>12</td>\n",
       "      <td>2020</td>\n",
       "    </tr>\n",
       "  </tbody>\n",
       "</table>\n",
       "<p>70128 rows × 15 columns</p>\n",
       "</div>"
      ],
      "text/plain": [
       "         0    1    2    3    4    5    6    7    8    9   10   11  Day  Month  \\\n",
       "0      1.0  0.0  0.0  0.0  0.0  0.0  1.0  0.0  1.0  0.0  0.0  0.0    1      1   \n",
       "1      1.0  0.0  0.0  0.0  0.0  0.0  1.0  0.0  0.0  1.0  0.0  0.0    1      1   \n",
       "2      1.0  0.0  0.0  0.0  0.0  0.0  1.0  0.0  0.0  0.0  1.0  0.0    1      1   \n",
       "3      1.0  0.0  0.0  0.0  0.0  0.0  1.0  0.0  0.0  0.0  0.0  1.0    1      1   \n",
       "4      1.0  0.0  0.0  0.0  0.0  0.0  0.0  1.0  1.0  0.0  0.0  0.0    1      1   \n",
       "...    ...  ...  ...  ...  ...  ...  ...  ...  ...  ...  ...  ...  ...    ...   \n",
       "70123  0.0  0.0  0.0  0.0  0.0  1.0  1.0  0.0  0.0  0.0  0.0  1.0   31     12   \n",
       "70124  0.0  0.0  0.0  0.0  0.0  1.0  0.0  1.0  1.0  0.0  0.0  0.0   31     12   \n",
       "70125  0.0  0.0  0.0  0.0  0.0  1.0  0.0  1.0  0.0  1.0  0.0  0.0   31     12   \n",
       "70126  0.0  0.0  0.0  0.0  0.0  1.0  0.0  1.0  0.0  0.0  1.0  0.0   31     12   \n",
       "70127  0.0  0.0  0.0  0.0  0.0  1.0  0.0  1.0  0.0  0.0  0.0  1.0   31     12   \n",
       "\n",
       "       Year  \n",
       "0      2017  \n",
       "1      2017  \n",
       "2      2017  \n",
       "3      2017  \n",
       "4      2017  \n",
       "...     ...  \n",
       "70123  2020  \n",
       "70124  2020  \n",
       "70125  2020  \n",
       "70126  2020  \n",
       "70127  2020  \n",
       "\n",
       "[70128 rows x 15 columns]"
      ]
     },
     "execution_count": 14,
     "metadata": {},
     "output_type": "execute_result"
    }
   ],
   "source": [
    "final"
   ]
  },
  {
   "cell_type": "code",
   "execution_count": 15,
   "id": "d084806d",
   "metadata": {
    "execution": {
     "iopub.execute_input": "2022-09-12T03:54:59.584928Z",
     "iopub.status.busy": "2022-09-12T03:54:59.584558Z",
     "iopub.status.idle": "2022-09-12T03:54:59.589955Z",
     "shell.execute_reply": "2022-09-12T03:54:59.589311Z"
    },
    "papermill": {
     "duration": 0.015669,
     "end_time": "2022-09-12T03:54:59.591469",
     "exception": false,
     "start_time": "2022-09-12T03:54:59.575800",
     "status": "completed"
    },
    "tags": []
   },
   "outputs": [],
   "source": [
    "final[\"time\"] = np.arange(len(final.index))"
   ]
  },
  {
   "cell_type": "code",
   "execution_count": 16,
   "id": "c0d8338a",
   "metadata": {
    "execution": {
     "iopub.execute_input": "2022-09-12T03:54:59.608502Z",
     "iopub.status.busy": "2022-09-12T03:54:59.607945Z",
     "iopub.status.idle": "2022-09-12T03:54:59.750987Z",
     "shell.execute_reply": "2022-09-12T03:54:59.749472Z"
    },
    "papermill": {
     "duration": 0.154499,
     "end_time": "2022-09-12T03:54:59.753444",
     "exception": false,
     "start_time": "2022-09-12T03:54:59.598945",
     "status": "completed"
    },
    "tags": []
   },
   "outputs": [],
   "source": [
    "from sklearn.linear_model import LinearRegression"
   ]
  },
  {
   "cell_type": "code",
   "execution_count": 17,
   "id": "88b3ade9",
   "metadata": {
    "execution": {
     "iopub.execute_input": "2022-09-12T03:54:59.771504Z",
     "iopub.status.busy": "2022-09-12T03:54:59.771172Z",
     "iopub.status.idle": "2022-09-12T03:54:59.775930Z",
     "shell.execute_reply": "2022-09-12T03:54:59.775023Z"
    },
    "papermill": {
     "duration": 0.015809,
     "end_time": "2022-09-12T03:54:59.777734",
     "exception": false,
     "start_time": "2022-09-12T03:54:59.761925",
     "status": "completed"
    },
    "tags": []
   },
   "outputs": [],
   "source": [
    "model = LinearRegression()"
   ]
  },
  {
   "cell_type": "code",
   "execution_count": 18,
   "id": "f76628bb",
   "metadata": {
    "execution": {
     "iopub.execute_input": "2022-09-12T03:54:59.795508Z",
     "iopub.status.busy": "2022-09-12T03:54:59.795197Z",
     "iopub.status.idle": "2022-09-12T03:54:59.800401Z",
     "shell.execute_reply": "2022-09-12T03:54:59.799298Z"
    },
    "papermill": {
     "duration": 0.017248,
     "end_time": "2022-09-12T03:54:59.803081",
     "exception": false,
     "start_time": "2022-09-12T03:54:59.785833",
     "status": "completed"
    },
    "tags": []
   },
   "outputs": [],
   "source": [
    "y = df.iloc[:,4]"
   ]
  },
  {
   "cell_type": "code",
   "execution_count": 19,
   "id": "133ff4ab",
   "metadata": {
    "execution": {
     "iopub.execute_input": "2022-09-12T03:54:59.822516Z",
     "iopub.status.busy": "2022-09-12T03:54:59.821845Z",
     "iopub.status.idle": "2022-09-12T03:54:59.855183Z",
     "shell.execute_reply": "2022-09-12T03:54:59.854089Z"
    },
    "papermill": {
     "duration": 0.045211,
     "end_time": "2022-09-12T03:54:59.857233",
     "exception": false,
     "start_time": "2022-09-12T03:54:59.812022",
     "status": "completed"
    },
    "tags": []
   },
   "outputs": [
    {
     "data": {
      "text/html": [
       "<div>\n",
       "<style scoped>\n",
       "    .dataframe tbody tr th:only-of-type {\n",
       "        vertical-align: middle;\n",
       "    }\n",
       "\n",
       "    .dataframe tbody tr th {\n",
       "        vertical-align: top;\n",
       "    }\n",
       "\n",
       "    .dataframe thead th {\n",
       "        text-align: right;\n",
       "    }\n",
       "</style>\n",
       "<table border=\"1\" class=\"dataframe\">\n",
       "  <thead>\n",
       "    <tr style=\"text-align: right;\">\n",
       "      <th></th>\n",
       "      <th>0</th>\n",
       "      <th>1</th>\n",
       "      <th>2</th>\n",
       "      <th>3</th>\n",
       "      <th>4</th>\n",
       "      <th>5</th>\n",
       "      <th>6</th>\n",
       "      <th>7</th>\n",
       "      <th>8</th>\n",
       "      <th>9</th>\n",
       "      <th>10</th>\n",
       "      <th>11</th>\n",
       "      <th>Day</th>\n",
       "      <th>Month</th>\n",
       "      <th>Year</th>\n",
       "      <th>time</th>\n",
       "    </tr>\n",
       "  </thead>\n",
       "  <tbody>\n",
       "    <tr>\n",
       "      <th>0</th>\n",
       "      <td>1.0</td>\n",
       "      <td>0.0</td>\n",
       "      <td>0.0</td>\n",
       "      <td>0.0</td>\n",
       "      <td>0.0</td>\n",
       "      <td>0.0</td>\n",
       "      <td>1.0</td>\n",
       "      <td>0.0</td>\n",
       "      <td>1.0</td>\n",
       "      <td>0.0</td>\n",
       "      <td>0.0</td>\n",
       "      <td>0.0</td>\n",
       "      <td>1</td>\n",
       "      <td>1</td>\n",
       "      <td>2017</td>\n",
       "      <td>0</td>\n",
       "    </tr>\n",
       "    <tr>\n",
       "      <th>1</th>\n",
       "      <td>1.0</td>\n",
       "      <td>0.0</td>\n",
       "      <td>0.0</td>\n",
       "      <td>0.0</td>\n",
       "      <td>0.0</td>\n",
       "      <td>0.0</td>\n",
       "      <td>1.0</td>\n",
       "      <td>0.0</td>\n",
       "      <td>0.0</td>\n",
       "      <td>1.0</td>\n",
       "      <td>0.0</td>\n",
       "      <td>0.0</td>\n",
       "      <td>1</td>\n",
       "      <td>1</td>\n",
       "      <td>2017</td>\n",
       "      <td>1</td>\n",
       "    </tr>\n",
       "    <tr>\n",
       "      <th>2</th>\n",
       "      <td>1.0</td>\n",
       "      <td>0.0</td>\n",
       "      <td>0.0</td>\n",
       "      <td>0.0</td>\n",
       "      <td>0.0</td>\n",
       "      <td>0.0</td>\n",
       "      <td>1.0</td>\n",
       "      <td>0.0</td>\n",
       "      <td>0.0</td>\n",
       "      <td>0.0</td>\n",
       "      <td>1.0</td>\n",
       "      <td>0.0</td>\n",
       "      <td>1</td>\n",
       "      <td>1</td>\n",
       "      <td>2017</td>\n",
       "      <td>2</td>\n",
       "    </tr>\n",
       "    <tr>\n",
       "      <th>3</th>\n",
       "      <td>1.0</td>\n",
       "      <td>0.0</td>\n",
       "      <td>0.0</td>\n",
       "      <td>0.0</td>\n",
       "      <td>0.0</td>\n",
       "      <td>0.0</td>\n",
       "      <td>1.0</td>\n",
       "      <td>0.0</td>\n",
       "      <td>0.0</td>\n",
       "      <td>0.0</td>\n",
       "      <td>0.0</td>\n",
       "      <td>1.0</td>\n",
       "      <td>1</td>\n",
       "      <td>1</td>\n",
       "      <td>2017</td>\n",
       "      <td>3</td>\n",
       "    </tr>\n",
       "    <tr>\n",
       "      <th>4</th>\n",
       "      <td>1.0</td>\n",
       "      <td>0.0</td>\n",
       "      <td>0.0</td>\n",
       "      <td>0.0</td>\n",
       "      <td>0.0</td>\n",
       "      <td>0.0</td>\n",
       "      <td>0.0</td>\n",
       "      <td>1.0</td>\n",
       "      <td>1.0</td>\n",
       "      <td>0.0</td>\n",
       "      <td>0.0</td>\n",
       "      <td>0.0</td>\n",
       "      <td>1</td>\n",
       "      <td>1</td>\n",
       "      <td>2017</td>\n",
       "      <td>4</td>\n",
       "    </tr>\n",
       "    <tr>\n",
       "      <th>...</th>\n",
       "      <td>...</td>\n",
       "      <td>...</td>\n",
       "      <td>...</td>\n",
       "      <td>...</td>\n",
       "      <td>...</td>\n",
       "      <td>...</td>\n",
       "      <td>...</td>\n",
       "      <td>...</td>\n",
       "      <td>...</td>\n",
       "      <td>...</td>\n",
       "      <td>...</td>\n",
       "      <td>...</td>\n",
       "      <td>...</td>\n",
       "      <td>...</td>\n",
       "      <td>...</td>\n",
       "      <td>...</td>\n",
       "    </tr>\n",
       "    <tr>\n",
       "      <th>70123</th>\n",
       "      <td>0.0</td>\n",
       "      <td>0.0</td>\n",
       "      <td>0.0</td>\n",
       "      <td>0.0</td>\n",
       "      <td>0.0</td>\n",
       "      <td>1.0</td>\n",
       "      <td>1.0</td>\n",
       "      <td>0.0</td>\n",
       "      <td>0.0</td>\n",
       "      <td>0.0</td>\n",
       "      <td>0.0</td>\n",
       "      <td>1.0</td>\n",
       "      <td>31</td>\n",
       "      <td>12</td>\n",
       "      <td>2020</td>\n",
       "      <td>70123</td>\n",
       "    </tr>\n",
       "    <tr>\n",
       "      <th>70124</th>\n",
       "      <td>0.0</td>\n",
       "      <td>0.0</td>\n",
       "      <td>0.0</td>\n",
       "      <td>0.0</td>\n",
       "      <td>0.0</td>\n",
       "      <td>1.0</td>\n",
       "      <td>0.0</td>\n",
       "      <td>1.0</td>\n",
       "      <td>1.0</td>\n",
       "      <td>0.0</td>\n",
       "      <td>0.0</td>\n",
       "      <td>0.0</td>\n",
       "      <td>31</td>\n",
       "      <td>12</td>\n",
       "      <td>2020</td>\n",
       "      <td>70124</td>\n",
       "    </tr>\n",
       "    <tr>\n",
       "      <th>70125</th>\n",
       "      <td>0.0</td>\n",
       "      <td>0.0</td>\n",
       "      <td>0.0</td>\n",
       "      <td>0.0</td>\n",
       "      <td>0.0</td>\n",
       "      <td>1.0</td>\n",
       "      <td>0.0</td>\n",
       "      <td>1.0</td>\n",
       "      <td>0.0</td>\n",
       "      <td>1.0</td>\n",
       "      <td>0.0</td>\n",
       "      <td>0.0</td>\n",
       "      <td>31</td>\n",
       "      <td>12</td>\n",
       "      <td>2020</td>\n",
       "      <td>70125</td>\n",
       "    </tr>\n",
       "    <tr>\n",
       "      <th>70126</th>\n",
       "      <td>0.0</td>\n",
       "      <td>0.0</td>\n",
       "      <td>0.0</td>\n",
       "      <td>0.0</td>\n",
       "      <td>0.0</td>\n",
       "      <td>1.0</td>\n",
       "      <td>0.0</td>\n",
       "      <td>1.0</td>\n",
       "      <td>0.0</td>\n",
       "      <td>0.0</td>\n",
       "      <td>1.0</td>\n",
       "      <td>0.0</td>\n",
       "      <td>31</td>\n",
       "      <td>12</td>\n",
       "      <td>2020</td>\n",
       "      <td>70126</td>\n",
       "    </tr>\n",
       "    <tr>\n",
       "      <th>70127</th>\n",
       "      <td>0.0</td>\n",
       "      <td>0.0</td>\n",
       "      <td>0.0</td>\n",
       "      <td>0.0</td>\n",
       "      <td>0.0</td>\n",
       "      <td>1.0</td>\n",
       "      <td>0.0</td>\n",
       "      <td>1.0</td>\n",
       "      <td>0.0</td>\n",
       "      <td>0.0</td>\n",
       "      <td>0.0</td>\n",
       "      <td>1.0</td>\n",
       "      <td>31</td>\n",
       "      <td>12</td>\n",
       "      <td>2020</td>\n",
       "      <td>70127</td>\n",
       "    </tr>\n",
       "  </tbody>\n",
       "</table>\n",
       "<p>70128 rows × 16 columns</p>\n",
       "</div>"
      ],
      "text/plain": [
       "         0    1    2    3    4    5    6    7    8    9   10   11  Day  Month  \\\n",
       "0      1.0  0.0  0.0  0.0  0.0  0.0  1.0  0.0  1.0  0.0  0.0  0.0    1      1   \n",
       "1      1.0  0.0  0.0  0.0  0.0  0.0  1.0  0.0  0.0  1.0  0.0  0.0    1      1   \n",
       "2      1.0  0.0  0.0  0.0  0.0  0.0  1.0  0.0  0.0  0.0  1.0  0.0    1      1   \n",
       "3      1.0  0.0  0.0  0.0  0.0  0.0  1.0  0.0  0.0  0.0  0.0  1.0    1      1   \n",
       "4      1.0  0.0  0.0  0.0  0.0  0.0  0.0  1.0  1.0  0.0  0.0  0.0    1      1   \n",
       "...    ...  ...  ...  ...  ...  ...  ...  ...  ...  ...  ...  ...  ...    ...   \n",
       "70123  0.0  0.0  0.0  0.0  0.0  1.0  1.0  0.0  0.0  0.0  0.0  1.0   31     12   \n",
       "70124  0.0  0.0  0.0  0.0  0.0  1.0  0.0  1.0  1.0  0.0  0.0  0.0   31     12   \n",
       "70125  0.0  0.0  0.0  0.0  0.0  1.0  0.0  1.0  0.0  1.0  0.0  0.0   31     12   \n",
       "70126  0.0  0.0  0.0  0.0  0.0  1.0  0.0  1.0  0.0  0.0  1.0  0.0   31     12   \n",
       "70127  0.0  0.0  0.0  0.0  0.0  1.0  0.0  1.0  0.0  0.0  0.0  1.0   31     12   \n",
       "\n",
       "       Year   time  \n",
       "0      2017      0  \n",
       "1      2017      1  \n",
       "2      2017      2  \n",
       "3      2017      3  \n",
       "4      2017      4  \n",
       "...     ...    ...  \n",
       "70123  2020  70123  \n",
       "70124  2020  70124  \n",
       "70125  2020  70125  \n",
       "70126  2020  70126  \n",
       "70127  2020  70127  \n",
       "\n",
       "[70128 rows x 16 columns]"
      ]
     },
     "execution_count": 19,
     "metadata": {},
     "output_type": "execute_result"
    }
   ],
   "source": [
    "final"
   ]
  },
  {
   "cell_type": "code",
   "execution_count": 20,
   "id": "9eb09f89",
   "metadata": {
    "execution": {
     "iopub.execute_input": "2022-09-12T03:54:59.881358Z",
     "iopub.status.busy": "2022-09-12T03:54:59.879937Z",
     "iopub.status.idle": "2022-09-12T03:54:59.947761Z",
     "shell.execute_reply": "2022-09-12T03:54:59.946895Z"
    },
    "papermill": {
     "duration": 0.083588,
     "end_time": "2022-09-12T03:54:59.950846",
     "exception": false,
     "start_time": "2022-09-12T03:54:59.867258",
     "status": "completed"
    },
    "tags": []
   },
   "outputs": [
    {
     "name": "stderr",
     "output_type": "stream",
     "text": [
      "/opt/conda/lib/python3.7/site-packages/sklearn/utils/validation.py:1692: FutureWarning: Feature names only support names that are all strings. Got feature names with dtypes: ['int', 'str']. An error will be raised in 1.2.\n",
      "  FutureWarning,\n"
     ]
    },
    {
     "data": {
      "text/plain": [
       "LinearRegression()"
      ]
     },
     "execution_count": 20,
     "metadata": {},
     "output_type": "execute_result"
    }
   ],
   "source": [
    "model.fit(final,y)"
   ]
  },
  {
   "cell_type": "code",
   "execution_count": 21,
   "id": "ba0c160d",
   "metadata": {
    "execution": {
     "iopub.execute_input": "2022-09-12T03:54:59.974709Z",
     "iopub.status.busy": "2022-09-12T03:54:59.974393Z",
     "iopub.status.idle": "2022-09-12T03:55:00.003580Z",
     "shell.execute_reply": "2022-09-12T03:55:00.002763Z"
    },
    "papermill": {
     "duration": 0.043839,
     "end_time": "2022-09-12T03:55:00.006167",
     "exception": false,
     "start_time": "2022-09-12T03:54:59.962328",
     "status": "completed"
    },
    "tags": []
   },
   "outputs": [],
   "source": [
    "dd = pd.read_csv(\"/kaggle/input/tabular-playground-series-sep-2022/test.csv\")"
   ]
  },
  {
   "cell_type": "code",
   "execution_count": 22,
   "id": "88051290",
   "metadata": {
    "execution": {
     "iopub.execute_input": "2022-09-12T03:55:00.032601Z",
     "iopub.status.busy": "2022-09-12T03:55:00.032253Z",
     "iopub.status.idle": "2022-09-12T03:55:00.055679Z",
     "shell.execute_reply": "2022-09-12T03:55:00.055010Z"
    },
    "papermill": {
     "duration": 0.040134,
     "end_time": "2022-09-12T03:55:00.058060",
     "exception": false,
     "start_time": "2022-09-12T03:55:00.017926",
     "status": "completed"
    },
    "tags": []
   },
   "outputs": [],
   "source": [
    "final2 = pd.DataFrame(ohe.fit_transform(dd.iloc[:,[2,3,4]]).toarray())"
   ]
  },
  {
   "cell_type": "code",
   "execution_count": 23,
   "id": "2c03468a",
   "metadata": {
    "execution": {
     "iopub.execute_input": "2022-09-12T03:55:00.076997Z",
     "iopub.status.busy": "2022-09-12T03:55:00.076650Z",
     "iopub.status.idle": "2022-09-12T03:55:00.093302Z",
     "shell.execute_reply": "2022-09-12T03:55:00.092205Z"
    },
    "papermill": {
     "duration": 0.028709,
     "end_time": "2022-09-12T03:55:00.095378",
     "exception": false,
     "start_time": "2022-09-12T03:55:00.066669",
     "status": "completed"
    },
    "tags": []
   },
   "outputs": [],
   "source": [
    "final2['Day'] = pd.DatetimeIndex(dd['date']).day\n",
    "final2['Month'] = pd.DatetimeIndex(dd['date']).month\n",
    "final2['Year'] = pd.DatetimeIndex(dd['date']).year"
   ]
  },
  {
   "cell_type": "code",
   "execution_count": 24,
   "id": "ddca1496",
   "metadata": {
    "execution": {
     "iopub.execute_input": "2022-09-12T03:55:00.115686Z",
     "iopub.status.busy": "2022-09-12T03:55:00.115224Z",
     "iopub.status.idle": "2022-09-12T03:55:00.121692Z",
     "shell.execute_reply": "2022-09-12T03:55:00.120290Z"
    },
    "papermill": {
     "duration": 0.019412,
     "end_time": "2022-09-12T03:55:00.124109",
     "exception": false,
     "start_time": "2022-09-12T03:55:00.104697",
     "status": "completed"
    },
    "tags": []
   },
   "outputs": [],
   "source": [
    "final2[\"time\"]=70128+np.arange(len(dd.index))"
   ]
  },
  {
   "cell_type": "code",
   "execution_count": 25,
   "id": "4d56197f",
   "metadata": {
    "execution": {
     "iopub.execute_input": "2022-09-12T03:55:00.148983Z",
     "iopub.status.busy": "2022-09-12T03:55:00.148300Z",
     "iopub.status.idle": "2022-09-12T03:55:00.178239Z",
     "shell.execute_reply": "2022-09-12T03:55:00.177597Z"
    },
    "papermill": {
     "duration": 0.043179,
     "end_time": "2022-09-12T03:55:00.180011",
     "exception": false,
     "start_time": "2022-09-12T03:55:00.136832",
     "status": "completed"
    },
    "tags": []
   },
   "outputs": [
    {
     "data": {
      "text/html": [
       "<div>\n",
       "<style scoped>\n",
       "    .dataframe tbody tr th:only-of-type {\n",
       "        vertical-align: middle;\n",
       "    }\n",
       "\n",
       "    .dataframe tbody tr th {\n",
       "        vertical-align: top;\n",
       "    }\n",
       "\n",
       "    .dataframe thead th {\n",
       "        text-align: right;\n",
       "    }\n",
       "</style>\n",
       "<table border=\"1\" class=\"dataframe\">\n",
       "  <thead>\n",
       "    <tr style=\"text-align: right;\">\n",
       "      <th></th>\n",
       "      <th>0</th>\n",
       "      <th>1</th>\n",
       "      <th>2</th>\n",
       "      <th>3</th>\n",
       "      <th>4</th>\n",
       "      <th>5</th>\n",
       "      <th>6</th>\n",
       "      <th>7</th>\n",
       "      <th>8</th>\n",
       "      <th>9</th>\n",
       "      <th>10</th>\n",
       "      <th>11</th>\n",
       "      <th>Day</th>\n",
       "      <th>Month</th>\n",
       "      <th>Year</th>\n",
       "      <th>time</th>\n",
       "    </tr>\n",
       "  </thead>\n",
       "  <tbody>\n",
       "    <tr>\n",
       "      <th>0</th>\n",
       "      <td>1.0</td>\n",
       "      <td>0.0</td>\n",
       "      <td>0.0</td>\n",
       "      <td>0.0</td>\n",
       "      <td>0.0</td>\n",
       "      <td>0.0</td>\n",
       "      <td>1.0</td>\n",
       "      <td>0.0</td>\n",
       "      <td>1.0</td>\n",
       "      <td>0.0</td>\n",
       "      <td>0.0</td>\n",
       "      <td>0.0</td>\n",
       "      <td>1</td>\n",
       "      <td>1</td>\n",
       "      <td>2021</td>\n",
       "      <td>70128</td>\n",
       "    </tr>\n",
       "    <tr>\n",
       "      <th>1</th>\n",
       "      <td>1.0</td>\n",
       "      <td>0.0</td>\n",
       "      <td>0.0</td>\n",
       "      <td>0.0</td>\n",
       "      <td>0.0</td>\n",
       "      <td>0.0</td>\n",
       "      <td>1.0</td>\n",
       "      <td>0.0</td>\n",
       "      <td>0.0</td>\n",
       "      <td>1.0</td>\n",
       "      <td>0.0</td>\n",
       "      <td>0.0</td>\n",
       "      <td>1</td>\n",
       "      <td>1</td>\n",
       "      <td>2021</td>\n",
       "      <td>70129</td>\n",
       "    </tr>\n",
       "    <tr>\n",
       "      <th>2</th>\n",
       "      <td>1.0</td>\n",
       "      <td>0.0</td>\n",
       "      <td>0.0</td>\n",
       "      <td>0.0</td>\n",
       "      <td>0.0</td>\n",
       "      <td>0.0</td>\n",
       "      <td>1.0</td>\n",
       "      <td>0.0</td>\n",
       "      <td>0.0</td>\n",
       "      <td>0.0</td>\n",
       "      <td>1.0</td>\n",
       "      <td>0.0</td>\n",
       "      <td>1</td>\n",
       "      <td>1</td>\n",
       "      <td>2021</td>\n",
       "      <td>70130</td>\n",
       "    </tr>\n",
       "    <tr>\n",
       "      <th>3</th>\n",
       "      <td>1.0</td>\n",
       "      <td>0.0</td>\n",
       "      <td>0.0</td>\n",
       "      <td>0.0</td>\n",
       "      <td>0.0</td>\n",
       "      <td>0.0</td>\n",
       "      <td>1.0</td>\n",
       "      <td>0.0</td>\n",
       "      <td>0.0</td>\n",
       "      <td>0.0</td>\n",
       "      <td>0.0</td>\n",
       "      <td>1.0</td>\n",
       "      <td>1</td>\n",
       "      <td>1</td>\n",
       "      <td>2021</td>\n",
       "      <td>70131</td>\n",
       "    </tr>\n",
       "    <tr>\n",
       "      <th>4</th>\n",
       "      <td>1.0</td>\n",
       "      <td>0.0</td>\n",
       "      <td>0.0</td>\n",
       "      <td>0.0</td>\n",
       "      <td>0.0</td>\n",
       "      <td>0.0</td>\n",
       "      <td>0.0</td>\n",
       "      <td>1.0</td>\n",
       "      <td>1.0</td>\n",
       "      <td>0.0</td>\n",
       "      <td>0.0</td>\n",
       "      <td>0.0</td>\n",
       "      <td>1</td>\n",
       "      <td>1</td>\n",
       "      <td>2021</td>\n",
       "      <td>70132</td>\n",
       "    </tr>\n",
       "    <tr>\n",
       "      <th>...</th>\n",
       "      <td>...</td>\n",
       "      <td>...</td>\n",
       "      <td>...</td>\n",
       "      <td>...</td>\n",
       "      <td>...</td>\n",
       "      <td>...</td>\n",
       "      <td>...</td>\n",
       "      <td>...</td>\n",
       "      <td>...</td>\n",
       "      <td>...</td>\n",
       "      <td>...</td>\n",
       "      <td>...</td>\n",
       "      <td>...</td>\n",
       "      <td>...</td>\n",
       "      <td>...</td>\n",
       "      <td>...</td>\n",
       "    </tr>\n",
       "    <tr>\n",
       "      <th>17515</th>\n",
       "      <td>0.0</td>\n",
       "      <td>0.0</td>\n",
       "      <td>0.0</td>\n",
       "      <td>0.0</td>\n",
       "      <td>0.0</td>\n",
       "      <td>1.0</td>\n",
       "      <td>1.0</td>\n",
       "      <td>0.0</td>\n",
       "      <td>0.0</td>\n",
       "      <td>0.0</td>\n",
       "      <td>0.0</td>\n",
       "      <td>1.0</td>\n",
       "      <td>31</td>\n",
       "      <td>12</td>\n",
       "      <td>2021</td>\n",
       "      <td>87643</td>\n",
       "    </tr>\n",
       "    <tr>\n",
       "      <th>17516</th>\n",
       "      <td>0.0</td>\n",
       "      <td>0.0</td>\n",
       "      <td>0.0</td>\n",
       "      <td>0.0</td>\n",
       "      <td>0.0</td>\n",
       "      <td>1.0</td>\n",
       "      <td>0.0</td>\n",
       "      <td>1.0</td>\n",
       "      <td>1.0</td>\n",
       "      <td>0.0</td>\n",
       "      <td>0.0</td>\n",
       "      <td>0.0</td>\n",
       "      <td>31</td>\n",
       "      <td>12</td>\n",
       "      <td>2021</td>\n",
       "      <td>87644</td>\n",
       "    </tr>\n",
       "    <tr>\n",
       "      <th>17517</th>\n",
       "      <td>0.0</td>\n",
       "      <td>0.0</td>\n",
       "      <td>0.0</td>\n",
       "      <td>0.0</td>\n",
       "      <td>0.0</td>\n",
       "      <td>1.0</td>\n",
       "      <td>0.0</td>\n",
       "      <td>1.0</td>\n",
       "      <td>0.0</td>\n",
       "      <td>1.0</td>\n",
       "      <td>0.0</td>\n",
       "      <td>0.0</td>\n",
       "      <td>31</td>\n",
       "      <td>12</td>\n",
       "      <td>2021</td>\n",
       "      <td>87645</td>\n",
       "    </tr>\n",
       "    <tr>\n",
       "      <th>17518</th>\n",
       "      <td>0.0</td>\n",
       "      <td>0.0</td>\n",
       "      <td>0.0</td>\n",
       "      <td>0.0</td>\n",
       "      <td>0.0</td>\n",
       "      <td>1.0</td>\n",
       "      <td>0.0</td>\n",
       "      <td>1.0</td>\n",
       "      <td>0.0</td>\n",
       "      <td>0.0</td>\n",
       "      <td>1.0</td>\n",
       "      <td>0.0</td>\n",
       "      <td>31</td>\n",
       "      <td>12</td>\n",
       "      <td>2021</td>\n",
       "      <td>87646</td>\n",
       "    </tr>\n",
       "    <tr>\n",
       "      <th>17519</th>\n",
       "      <td>0.0</td>\n",
       "      <td>0.0</td>\n",
       "      <td>0.0</td>\n",
       "      <td>0.0</td>\n",
       "      <td>0.0</td>\n",
       "      <td>1.0</td>\n",
       "      <td>0.0</td>\n",
       "      <td>1.0</td>\n",
       "      <td>0.0</td>\n",
       "      <td>0.0</td>\n",
       "      <td>0.0</td>\n",
       "      <td>1.0</td>\n",
       "      <td>31</td>\n",
       "      <td>12</td>\n",
       "      <td>2021</td>\n",
       "      <td>87647</td>\n",
       "    </tr>\n",
       "  </tbody>\n",
       "</table>\n",
       "<p>17520 rows × 16 columns</p>\n",
       "</div>"
      ],
      "text/plain": [
       "         0    1    2    3    4    5    6    7    8    9   10   11  Day  Month  \\\n",
       "0      1.0  0.0  0.0  0.0  0.0  0.0  1.0  0.0  1.0  0.0  0.0  0.0    1      1   \n",
       "1      1.0  0.0  0.0  0.0  0.0  0.0  1.0  0.0  0.0  1.0  0.0  0.0    1      1   \n",
       "2      1.0  0.0  0.0  0.0  0.0  0.0  1.0  0.0  0.0  0.0  1.0  0.0    1      1   \n",
       "3      1.0  0.0  0.0  0.0  0.0  0.0  1.0  0.0  0.0  0.0  0.0  1.0    1      1   \n",
       "4      1.0  0.0  0.0  0.0  0.0  0.0  0.0  1.0  1.0  0.0  0.0  0.0    1      1   \n",
       "...    ...  ...  ...  ...  ...  ...  ...  ...  ...  ...  ...  ...  ...    ...   \n",
       "17515  0.0  0.0  0.0  0.0  0.0  1.0  1.0  0.0  0.0  0.0  0.0  1.0   31     12   \n",
       "17516  0.0  0.0  0.0  0.0  0.0  1.0  0.0  1.0  1.0  0.0  0.0  0.0   31     12   \n",
       "17517  0.0  0.0  0.0  0.0  0.0  1.0  0.0  1.0  0.0  1.0  0.0  0.0   31     12   \n",
       "17518  0.0  0.0  0.0  0.0  0.0  1.0  0.0  1.0  0.0  0.0  1.0  0.0   31     12   \n",
       "17519  0.0  0.0  0.0  0.0  0.0  1.0  0.0  1.0  0.0  0.0  0.0  1.0   31     12   \n",
       "\n",
       "       Year   time  \n",
       "0      2021  70128  \n",
       "1      2021  70129  \n",
       "2      2021  70130  \n",
       "3      2021  70131  \n",
       "4      2021  70132  \n",
       "...     ...    ...  \n",
       "17515  2021  87643  \n",
       "17516  2021  87644  \n",
       "17517  2021  87645  \n",
       "17518  2021  87646  \n",
       "17519  2021  87647  \n",
       "\n",
       "[17520 rows x 16 columns]"
      ]
     },
     "execution_count": 25,
     "metadata": {},
     "output_type": "execute_result"
    }
   ],
   "source": [
    "final2"
   ]
  },
  {
   "cell_type": "code",
   "execution_count": 26,
   "id": "ed14fd81",
   "metadata": {
    "execution": {
     "iopub.execute_input": "2022-09-12T03:55:00.203762Z",
     "iopub.status.busy": "2022-09-12T03:55:00.203439Z",
     "iopub.status.idle": "2022-09-12T03:55:00.221717Z",
     "shell.execute_reply": "2022-09-12T03:55:00.220886Z"
    },
    "papermill": {
     "duration": 0.032914,
     "end_time": "2022-09-12T03:55:00.224299",
     "exception": false,
     "start_time": "2022-09-12T03:55:00.191385",
     "status": "completed"
    },
    "tags": []
   },
   "outputs": [
    {
     "name": "stderr",
     "output_type": "stream",
     "text": [
      "/opt/conda/lib/python3.7/site-packages/sklearn/utils/validation.py:1692: FutureWarning: Feature names only support names that are all strings. Got feature names with dtypes: ['int', 'str']. An error will be raised in 1.2.\n",
      "  FutureWarning,\n"
     ]
    }
   ],
   "source": [
    "pred = model.predict(final2)"
   ]
  },
  {
   "cell_type": "code",
   "execution_count": 27,
   "id": "92a5c36e",
   "metadata": {
    "execution": {
     "iopub.execute_input": "2022-09-12T03:55:00.250593Z",
     "iopub.status.busy": "2022-09-12T03:55:00.250244Z",
     "iopub.status.idle": "2022-09-12T03:55:00.262056Z",
     "shell.execute_reply": "2022-09-12T03:55:00.261115Z"
    },
    "papermill": {
     "duration": 0.027541,
     "end_time": "2022-09-12T03:55:00.264357",
     "exception": false,
     "start_time": "2022-09-12T03:55:00.236816",
     "status": "completed"
    },
    "tags": []
   },
   "outputs": [],
   "source": [
    "pred = [int(p) for p in pred]"
   ]
  },
  {
   "cell_type": "code",
   "execution_count": 28,
   "id": "13358fe8",
   "metadata": {
    "execution": {
     "iopub.execute_input": "2022-09-12T03:55:00.290946Z",
     "iopub.status.busy": "2022-09-12T03:55:00.290583Z",
     "iopub.status.idle": "2022-09-12T03:55:00.323029Z",
     "shell.execute_reply": "2022-09-12T03:55:00.322246Z"
    },
    "papermill": {
     "duration": 0.049178,
     "end_time": "2022-09-12T03:55:00.325724",
     "exception": false,
     "start_time": "2022-09-12T03:55:00.276546",
     "status": "completed"
    },
    "tags": []
   },
   "outputs": [
    {
     "data": {
      "text/html": [
       "<div>\n",
       "<style scoped>\n",
       "    .dataframe tbody tr th:only-of-type {\n",
       "        vertical-align: middle;\n",
       "    }\n",
       "\n",
       "    .dataframe tbody tr th {\n",
       "        vertical-align: top;\n",
       "    }\n",
       "\n",
       "    .dataframe thead th {\n",
       "        text-align: right;\n",
       "    }\n",
       "</style>\n",
       "<table border=\"1\" class=\"dataframe\">\n",
       "  <thead>\n",
       "    <tr style=\"text-align: right;\">\n",
       "      <th></th>\n",
       "      <th>row_id</th>\n",
       "      <th>num_sold</th>\n",
       "    </tr>\n",
       "  </thead>\n",
       "  <tbody>\n",
       "    <tr>\n",
       "      <th>0</th>\n",
       "      <td>70128</td>\n",
       "      <td>100</td>\n",
       "    </tr>\n",
       "    <tr>\n",
       "      <th>1</th>\n",
       "      <td>70129</td>\n",
       "      <td>100</td>\n",
       "    </tr>\n",
       "    <tr>\n",
       "      <th>2</th>\n",
       "      <td>70130</td>\n",
       "      <td>100</td>\n",
       "    </tr>\n",
       "    <tr>\n",
       "      <th>3</th>\n",
       "      <td>70131</td>\n",
       "      <td>100</td>\n",
       "    </tr>\n",
       "    <tr>\n",
       "      <th>4</th>\n",
       "      <td>70132</td>\n",
       "      <td>100</td>\n",
       "    </tr>\n",
       "    <tr>\n",
       "      <th>...</th>\n",
       "      <td>...</td>\n",
       "      <td>...</td>\n",
       "    </tr>\n",
       "    <tr>\n",
       "      <th>17515</th>\n",
       "      <td>87643</td>\n",
       "      <td>100</td>\n",
       "    </tr>\n",
       "    <tr>\n",
       "      <th>17516</th>\n",
       "      <td>87644</td>\n",
       "      <td>100</td>\n",
       "    </tr>\n",
       "    <tr>\n",
       "      <th>17517</th>\n",
       "      <td>87645</td>\n",
       "      <td>100</td>\n",
       "    </tr>\n",
       "    <tr>\n",
       "      <th>17518</th>\n",
       "      <td>87646</td>\n",
       "      <td>100</td>\n",
       "    </tr>\n",
       "    <tr>\n",
       "      <th>17519</th>\n",
       "      <td>87647</td>\n",
       "      <td>100</td>\n",
       "    </tr>\n",
       "  </tbody>\n",
       "</table>\n",
       "<p>17520 rows × 2 columns</p>\n",
       "</div>"
      ],
      "text/plain": [
       "       row_id  num_sold\n",
       "0       70128       100\n",
       "1       70129       100\n",
       "2       70130       100\n",
       "3       70131       100\n",
       "4       70132       100\n",
       "...       ...       ...\n",
       "17515   87643       100\n",
       "17516   87644       100\n",
       "17517   87645       100\n",
       "17518   87646       100\n",
       "17519   87647       100\n",
       "\n",
       "[17520 rows x 2 columns]"
      ]
     },
     "execution_count": 28,
     "metadata": {},
     "output_type": "execute_result"
    }
   ],
   "source": [
    "ss = pd.read_csv(\"/kaggle/input/tabular-playground-series-sep-2022/sample_submission.csv\")\n",
    "ss"
   ]
  },
  {
   "cell_type": "code",
   "execution_count": 29,
   "id": "6fbe08f2",
   "metadata": {
    "execution": {
     "iopub.execute_input": "2022-09-12T03:55:00.346137Z",
     "iopub.status.busy": "2022-09-12T03:55:00.345820Z",
     "iopub.status.idle": "2022-09-12T03:55:00.354747Z",
     "shell.execute_reply": "2022-09-12T03:55:00.352956Z"
    },
    "papermill": {
     "duration": 0.021381,
     "end_time": "2022-09-12T03:55:00.357248",
     "exception": false,
     "start_time": "2022-09-12T03:55:00.335867",
     "status": "completed"
    },
    "tags": []
   },
   "outputs": [],
   "source": [
    "submit = pd.DataFrame({\"row_id\":ss.row_id,\"num_sold\":pred})"
   ]
  },
  {
   "cell_type": "code",
   "execution_count": 30,
   "id": "2703c2b9",
   "metadata": {
    "execution": {
     "iopub.execute_input": "2022-09-12T03:55:00.378304Z",
     "iopub.status.busy": "2022-09-12T03:55:00.377706Z",
     "iopub.status.idle": "2022-09-12T03:55:00.404765Z",
     "shell.execute_reply": "2022-09-12T03:55:00.403104Z"
    },
    "papermill": {
     "duration": 0.040176,
     "end_time": "2022-09-12T03:55:00.407142",
     "exception": false,
     "start_time": "2022-09-12T03:55:00.366966",
     "status": "completed"
    },
    "tags": []
   },
   "outputs": [],
   "source": [
    "submit.to_csv(\"Submission.csv\",index=False)"
   ]
  },
  {
   "cell_type": "code",
   "execution_count": 31,
   "id": "46fcec52",
   "metadata": {
    "execution": {
     "iopub.execute_input": "2022-09-12T03:55:00.427887Z",
     "iopub.status.busy": "2022-09-12T03:55:00.427525Z",
     "iopub.status.idle": "2022-09-12T03:55:00.438667Z",
     "shell.execute_reply": "2022-09-12T03:55:00.437553Z"
    },
    "papermill": {
     "duration": 0.024372,
     "end_time": "2022-09-12T03:55:00.440958",
     "exception": false,
     "start_time": "2022-09-12T03:55:00.416586",
     "status": "completed"
    },
    "tags": []
   },
   "outputs": [
    {
     "data": {
      "text/html": [
       "<div>\n",
       "<style scoped>\n",
       "    .dataframe tbody tr th:only-of-type {\n",
       "        vertical-align: middle;\n",
       "    }\n",
       "\n",
       "    .dataframe tbody tr th {\n",
       "        vertical-align: top;\n",
       "    }\n",
       "\n",
       "    .dataframe thead th {\n",
       "        text-align: right;\n",
       "    }\n",
       "</style>\n",
       "<table border=\"1\" class=\"dataframe\">\n",
       "  <thead>\n",
       "    <tr style=\"text-align: right;\">\n",
       "      <th></th>\n",
       "      <th>row_id</th>\n",
       "      <th>num_sold</th>\n",
       "    </tr>\n",
       "  </thead>\n",
       "  <tbody>\n",
       "    <tr>\n",
       "      <th>0</th>\n",
       "      <td>70128</td>\n",
       "      <td>396</td>\n",
       "    </tr>\n",
       "    <tr>\n",
       "      <th>1</th>\n",
       "      <td>70129</td>\n",
       "      <td>351</td>\n",
       "    </tr>\n",
       "    <tr>\n",
       "      <th>2</th>\n",
       "      <td>70130</td>\n",
       "      <td>307</td>\n",
       "    </tr>\n",
       "    <tr>\n",
       "      <th>3</th>\n",
       "      <td>70131</td>\n",
       "      <td>413</td>\n",
       "    </tr>\n",
       "    <tr>\n",
       "      <th>4</th>\n",
       "      <td>70132</td>\n",
       "      <td>207</td>\n",
       "    </tr>\n",
       "    <tr>\n",
       "      <th>...</th>\n",
       "      <td>...</td>\n",
       "      <td>...</td>\n",
       "    </tr>\n",
       "    <tr>\n",
       "      <th>17515</th>\n",
       "      <td>87643</td>\n",
       "      <td>345</td>\n",
       "    </tr>\n",
       "    <tr>\n",
       "      <th>17516</th>\n",
       "      <td>87644</td>\n",
       "      <td>138</td>\n",
       "    </tr>\n",
       "    <tr>\n",
       "      <th>17517</th>\n",
       "      <td>87645</td>\n",
       "      <td>94</td>\n",
       "    </tr>\n",
       "    <tr>\n",
       "      <th>17518</th>\n",
       "      <td>87646</td>\n",
       "      <td>49</td>\n",
       "    </tr>\n",
       "    <tr>\n",
       "      <th>17519</th>\n",
       "      <td>87647</td>\n",
       "      <td>156</td>\n",
       "    </tr>\n",
       "  </tbody>\n",
       "</table>\n",
       "<p>17520 rows × 2 columns</p>\n",
       "</div>"
      ],
      "text/plain": [
       "       row_id  num_sold\n",
       "0       70128       396\n",
       "1       70129       351\n",
       "2       70130       307\n",
       "3       70131       413\n",
       "4       70132       207\n",
       "...       ...       ...\n",
       "17515   87643       345\n",
       "17516   87644       138\n",
       "17517   87645        94\n",
       "17518   87646        49\n",
       "17519   87647       156\n",
       "\n",
       "[17520 rows x 2 columns]"
      ]
     },
     "execution_count": 31,
     "metadata": {},
     "output_type": "execute_result"
    }
   ],
   "source": [
    "submit"
   ]
  },
  {
   "cell_type": "code",
   "execution_count": null,
   "id": "707a5f50",
   "metadata": {
    "papermill": {
     "duration": 0.008893,
     "end_time": "2022-09-12T03:55:00.459543",
     "exception": false,
     "start_time": "2022-09-12T03:55:00.450650",
     "status": "completed"
    },
    "tags": []
   },
   "outputs": [],
   "source": []
  }
 ],
 "metadata": {
  "kernelspec": {
   "display_name": "Python 3",
   "language": "python",
   "name": "python3"
  },
  "language_info": {
   "codemirror_mode": {
    "name": "ipython",
    "version": 3
   },
   "file_extension": ".py",
   "mimetype": "text/x-python",
   "name": "python",
   "nbconvert_exporter": "python",
   "pygments_lexer": "ipython3",
   "version": "3.7.12"
  },
  "papermill": {
   "default_parameters": {},
   "duration": 11.077462,
   "end_time": "2022-09-12T03:55:01.189011",
   "environment_variables": {},
   "exception": null,
   "input_path": "__notebook__.ipynb",
   "output_path": "__notebook__.ipynb",
   "parameters": {},
   "start_time": "2022-09-12T03:54:50.111549",
   "version": "2.3.4"
  }
 },
 "nbformat": 4,
 "nbformat_minor": 5
}
