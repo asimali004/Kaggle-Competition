{
 "cells": [
  {
   "cell_type": "code",
   "execution_count": 1,
   "id": "b8fca5ec",
   "metadata": {
    "_cell_guid": "b1076dfc-b9ad-4769-8c92-a6c4dae69d19",
    "_uuid": "8f2839f25d086af736a60e9eeb907d3b93b6e0e5",
    "execution": {
     "iopub.execute_input": "2022-10-13T05:41:51.091091Z",
     "iopub.status.busy": "2022-10-13T05:41:51.090639Z",
     "iopub.status.idle": "2022-10-13T05:41:51.101143Z",
     "shell.execute_reply": "2022-10-13T05:41:51.100462Z"
    },
    "papermill": {
     "duration": 0.03018,
     "end_time": "2022-10-13T05:41:51.103039",
     "exception": false,
     "start_time": "2022-10-13T05:41:51.072859",
     "status": "completed"
    },
    "tags": []
   },
   "outputs": [],
   "source": [
    "import numpy as np # linear algebra\n",
    "import pandas as pd # data processing, CSV file I/O (e.g. pd.read_csv)\n",
    "import matplotlib.pyplot as plt\n",
    "\n",
    "import os\n",
    "for dirname, _, filenames in os.walk('/kaggle/input'):\n",
    "    for filename in filenames:\n",
    "        print(os.path.join(dirname, filename))"
   ]
  },
  {
   "cell_type": "code",
   "execution_count": 2,
   "id": "96584d3e",
   "metadata": {
    "execution": {
     "iopub.execute_input": "2022-10-13T05:41:51.132755Z",
     "iopub.status.busy": "2022-10-13T05:41:51.132195Z",
     "iopub.status.idle": "2022-10-13T05:41:51.166090Z",
     "shell.execute_reply": "2022-10-13T05:41:51.165448Z"
    },
    "papermill": {
     "duration": 0.049662,
     "end_time": "2022-10-13T05:41:51.167888",
     "exception": false,
     "start_time": "2022-10-13T05:41:51.118226",
     "status": "completed"
    },
    "tags": []
   },
   "outputs": [],
   "source": [
    "import math\n",
    "import scipy\n",
    "from scipy import constants"
   ]
  },
  {
   "cell_type": "code",
   "execution_count": 3,
   "id": "b2bab30a",
   "metadata": {
    "execution": {
     "iopub.execute_input": "2022-10-13T05:41:51.194822Z",
     "iopub.status.busy": "2022-10-13T05:41:51.193922Z",
     "iopub.status.idle": "2022-10-13T05:41:51.199623Z",
     "shell.execute_reply": "2022-10-13T05:41:51.198238Z"
    },
    "papermill": {
     "duration": 0.02148,
     "end_time": "2022-10-13T05:41:51.202178",
     "exception": false,
     "start_time": "2022-10-13T05:41:51.180698",
     "status": "completed"
    },
    "tags": []
   },
   "outputs": [
    {
     "name": "stdout",
     "output_type": "stream",
     "text": [
      "1.7.3\n"
     ]
    }
   ],
   "source": [
    "print(scipy.__version__)"
   ]
  },
  {
   "cell_type": "markdown",
   "id": "286f2ebe",
   "metadata": {
    "papermill": {
     "duration": 0.013124,
     "end_time": "2022-10-13T05:41:51.229547",
     "exception": false,
     "start_time": "2022-10-13T05:41:51.216423",
     "status": "completed"
    },
    "tags": []
   },
   "source": [
    "# Constants"
   ]
  },
  {
   "cell_type": "code",
   "execution_count": 4,
   "id": "15ab3e78",
   "metadata": {
    "execution": {
     "iopub.execute_input": "2022-10-13T05:41:51.258591Z",
     "iopub.status.busy": "2022-10-13T05:41:51.257776Z",
     "iopub.status.idle": "2022-10-13T05:41:51.263178Z",
     "shell.execute_reply": "2022-10-13T05:41:51.262151Z"
    },
    "papermill": {
     "duration": 0.022417,
     "end_time": "2022-10-13T05:41:51.265312",
     "exception": false,
     "start_time": "2022-10-13T05:41:51.242895",
     "status": "completed"
    },
    "tags": []
   },
   "outputs": [
    {
     "name": "stdout",
     "output_type": "stream",
     "text": [
      "['Avogadro', 'Boltzmann', 'Btu', 'Btu_IT', 'Btu_th', 'ConstantWarning', 'G', 'Julian_year', 'N_A', 'Planck', 'R', 'Rydberg', 'Stefan_Boltzmann', 'Wien', '__all__', '__builtins__', '__cached__', '__doc__', '__file__', '__loader__', '__name__', '__package__', '__path__', '__spec__', '_obsolete_constants', 'acre', 'alpha', 'angstrom', 'arcmin', 'arcminute', 'arcsec', 'arcsecond', 'astronomical_unit', 'atm', 'atmosphere', 'atomic_mass', 'atto', 'au', 'bar', 'barrel', 'bbl', 'blob', 'c', 'calorie', 'calorie_IT', 'calorie_th', 'carat', 'centi', 'codata', 'constants', 'convert_temperature', 'day', 'deci', 'degree', 'degree_Fahrenheit', 'deka', 'dyn', 'dyne', 'e', 'eV', 'electron_mass', 'electron_volt', 'elementary_charge', 'epsilon_0', 'erg', 'exa', 'exbi', 'femto', 'fermi', 'find', 'fine_structure', 'fluid_ounce', 'fluid_ounce_US', 'fluid_ounce_imp', 'foot', 'g', 'gallon', 'gallon_US', 'gallon_imp', 'gas_constant', 'gibi', 'giga', 'golden', 'golden_ratio', 'grain', 'gram', 'gravitational_constant', 'h', 'hbar', 'hectare', 'hecto', 'horsepower', 'hour', 'hp', 'inch', 'k', 'kgf', 'kibi', 'kilo', 'kilogram_force', 'kmh', 'knot', 'lambda2nu', 'lb', 'lbf', 'light_year', 'liter', 'litre', 'long_ton', 'm_e', 'm_n', 'm_p', 'm_u', 'mach', 'mebi', 'mega', 'metric_ton', 'micro', 'micron', 'mil', 'mile', 'milli', 'minute', 'mmHg', 'mph', 'mu_0', 'nano', 'nautical_mile', 'neutron_mass', 'nu2lambda', 'ounce', 'oz', 'parsec', 'pebi', 'peta', 'physical_constants', 'pi', 'pico', 'point', 'pound', 'pound_force', 'precision', 'proton_mass', 'psi', 'pt', 'short_ton', 'sigma', 'slinch', 'slug', 'speed_of_light', 'speed_of_sound', 'stone', 'survey_foot', 'survey_mile', 'tebi', 'tera', 'test', 'ton_TNT', 'torr', 'troy_ounce', 'troy_pound', 'u', 'unit', 'value', 'week', 'yard', 'year', 'yobi', 'yotta', 'zebi', 'zepto', 'zero_Celsius', 'zetta']\n"
     ]
    }
   ],
   "source": [
    "print(dir(constants))"
   ]
  },
  {
   "cell_type": "code",
   "execution_count": 5,
   "id": "5c9d5d3b",
   "metadata": {
    "execution": {
     "iopub.execute_input": "2022-10-13T05:41:51.292901Z",
     "iopub.status.busy": "2022-10-13T05:41:51.292259Z",
     "iopub.status.idle": "2022-10-13T05:41:51.298623Z",
     "shell.execute_reply": "2022-10-13T05:41:51.297616Z"
    },
    "papermill": {
     "duration": 0.022179,
     "end_time": "2022-10-13T05:41:51.300768",
     "exception": false,
     "start_time": "2022-10-13T05:41:51.278589",
     "status": "completed"
    },
    "tags": []
   },
   "outputs": [
    {
     "name": "stdout",
     "output_type": "stream",
     "text": [
      "1048576\n",
      "1.602176634e-19\n",
      "0.0037854117839999997\n",
      "0.001\n",
      "0.45359236999999997\n",
      "0.017453292519943295\n",
      "60.0\n",
      "1609.3439999999998\n",
      "6894.757293168361\n",
      "10000.0\n",
      "340.5\n",
      "745.6998715822701\n"
     ]
    }
   ],
   "source": [
    "print(constants.mebi)\n",
    "print(constants.electron_volt)\n",
    "print(constants.gallon_US)\n",
    "print(constants.gram)\n",
    "print(constants.lb)\n",
    "print(constants.degree)\n",
    "print(constants.minute)\n",
    "print(constants.mile)\n",
    "print(constants.psi)\n",
    "print(constants.hectare)\n",
    "print(constants.mach)\n",
    "print(constants.horsepower)"
   ]
  },
  {
   "cell_type": "markdown",
   "id": "c128260a",
   "metadata": {
    "papermill": {
     "duration": 0.01333,
     "end_time": "2022-10-13T05:41:51.327477",
     "exception": false,
     "start_time": "2022-10-13T05:41:51.314147",
     "status": "completed"
    },
    "tags": []
   },
   "source": [
    "# Optimizers"
   ]
  },
  {
   "cell_type": "code",
   "execution_count": 6,
   "id": "e24368d1",
   "metadata": {
    "execution": {
     "iopub.execute_input": "2022-10-13T05:41:51.355712Z",
     "iopub.status.busy": "2022-10-13T05:41:51.355370Z",
     "iopub.status.idle": "2022-10-13T05:41:51.682482Z",
     "shell.execute_reply": "2022-10-13T05:41:51.681444Z"
    },
    "papermill": {
     "duration": 0.344511,
     "end_time": "2022-10-13T05:41:51.685490",
     "exception": false,
     "start_time": "2022-10-13T05:41:51.340979",
     "status": "completed"
    },
    "tags": []
   },
   "outputs": [],
   "source": [
    "from scipy import optimize"
   ]
  },
  {
   "cell_type": "code",
   "execution_count": 7,
   "id": "6af2ac94",
   "metadata": {
    "execution": {
     "iopub.execute_input": "2022-10-13T05:41:51.719238Z",
     "iopub.status.busy": "2022-10-13T05:41:51.718259Z",
     "iopub.status.idle": "2022-10-13T05:41:51.725580Z",
     "shell.execute_reply": "2022-10-13T05:41:51.724544Z"
    },
    "papermill": {
     "duration": 0.028835,
     "end_time": "2022-10-13T05:41:51.731102",
     "exception": false,
     "start_time": "2022-10-13T05:41:51.702267",
     "status": "completed"
    },
    "tags": []
   },
   "outputs": [
    {
     "name": "stdout",
     "output_type": "stream",
     "text": [
      "['BFGS', 'Bounds', 'HessianUpdateStrategy', 'LbfgsInvHessProduct', 'LinearConstraint', 'NonlinearConstraint', 'OptimizeResult', 'OptimizeWarning', 'RootResults', 'SR1', '__all__', '__builtins__', '__cached__', '__doc__', '__file__', '__loader__', '__name__', '__nnls', '__package__', '__path__', '__spec__', '_basinhopping', '_bglu_dense', '_cobyla', '_constraints', '_differentiable_functions', '_differentialevolution', '_dual_annealing', '_group_columns', '_hessian_update_strategy', '_highs', '_lbfgsb', '_linprog', '_linprog_doc', '_linprog_highs', '_linprog_ip', '_linprog_rs', '_linprog_simplex', '_linprog_util', '_lsap', '_lsap_module', '_lsq', '_minimize', '_minpack', '_nnls', '_numdiff', '_qap', '_remove_redundancy', '_root', '_root_scalar', '_shgo', '_shgo_lib', '_slsqp', '_spectral', '_trlib', '_trustregion', '_trustregion_constr', '_trustregion_dogleg', '_trustregion_exact', '_trustregion_krylov', '_trustregion_ncg', '_zeros', 'anderson', 'approx_fprime', 'basinhopping', 'bisect', 'bracket', 'brent', 'brenth', 'brentq', 'broyden1', 'broyden2', 'brute', 'check_grad', 'cobyla', 'curve_fit', 'diagbroyden', 'differential_evolution', 'dual_annealing', 'excitingmixing', 'fixed_point', 'fmin', 'fmin_bfgs', 'fmin_cg', 'fmin_cobyla', 'fmin_l_bfgs_b', 'fmin_ncg', 'fmin_powell', 'fmin_slsqp', 'fmin_tnc', 'fminbound', 'fsolve', 'golden', 'lbfgsb', 'least_squares', 'leastsq', 'line_search', 'linear_sum_assignment', 'linearmixing', 'linesearch', 'linprog', 'linprog_verbose_callback', 'lsq_linear', 'minimize', 'minimize_scalar', 'minpack', 'minpack2', 'moduleTNC', 'newton', 'newton_krylov', 'nnls', 'nonlin', 'optimize', 'quadratic_assignment', 'ridder', 'root', 'root_scalar', 'rosen', 'rosen_der', 'rosen_hess', 'rosen_hess_prod', 'shgo', 'show_options', 'slsqp', 'test', 'tnc', 'toms748', 'zeros']\n"
     ]
    }
   ],
   "source": [
    "print(dir(optimize))"
   ]
  },
  {
   "cell_type": "code",
   "execution_count": 8,
   "id": "4389f55d",
   "metadata": {
    "execution": {
     "iopub.execute_input": "2022-10-13T05:41:51.766745Z",
     "iopub.status.busy": "2022-10-13T05:41:51.765832Z",
     "iopub.status.idle": "2022-10-13T05:41:51.771149Z",
     "shell.execute_reply": "2022-10-13T05:41:51.770370Z"
    },
    "papermill": {
     "duration": 0.024849,
     "end_time": "2022-10-13T05:41:51.773047",
     "exception": false,
     "start_time": "2022-10-13T05:41:51.748198",
     "status": "completed"
    },
    "tags": []
   },
   "outputs": [],
   "source": [
    "def func(x):\n",
    "    return x**3 + x*math.cos(x) +3"
   ]
  },
  {
   "cell_type": "code",
   "execution_count": 9,
   "id": "c2bc3715",
   "metadata": {
    "execution": {
     "iopub.execute_input": "2022-10-13T05:41:51.803124Z",
     "iopub.status.busy": "2022-10-13T05:41:51.802546Z",
     "iopub.status.idle": "2022-10-13T05:41:51.814674Z",
     "shell.execute_reply": "2022-10-13T05:41:51.813635Z"
    },
    "papermill": {
     "duration": 0.029351,
     "end_time": "2022-10-13T05:41:51.816684",
     "exception": false,
     "start_time": "2022-10-13T05:41:51.787333",
     "status": "completed"
    },
    "tags": []
   },
   "outputs": [
    {
     "data": {
      "text/plain": [
       "    fjac: array([[-1.]])\n",
       "     fun: array([0.])\n",
       " message: 'The solution converged.'\n",
       "    nfev: 12\n",
       "     qtf: array([-7.01541936e-10])\n",
       "       r: array([-4.69424676])\n",
       "  status: 1\n",
       " success: True\n",
       "       x: array([-1.4038541])"
      ]
     },
     "execution_count": 9,
     "metadata": {},
     "output_type": "execute_result"
    }
   ],
   "source": [
    "optimize.root(func,1)"
   ]
  },
  {
   "cell_type": "code",
   "execution_count": 10,
   "id": "d4252e3c",
   "metadata": {
    "execution": {
     "iopub.execute_input": "2022-10-13T05:41:51.849776Z",
     "iopub.status.busy": "2022-10-13T05:41:51.849382Z",
     "iopub.status.idle": "2022-10-13T05:41:52.095168Z",
     "shell.execute_reply": "2022-10-13T05:41:52.094230Z"
    },
    "papermill": {
     "duration": 0.266427,
     "end_time": "2022-10-13T05:41:52.097123",
     "exception": false,
     "start_time": "2022-10-13T05:41:51.830696",
     "status": "completed"
    },
    "tags": []
   },
   "outputs": [
    {
     "data": {
      "text/plain": [
       "     fun: array([-6.73910641e+153])\n",
       "     jac: array([1.07034258e+103])\n",
       " message: 'Desired error not necessarily achieved due to precision loss.'\n",
       "    nfev: 2798\n",
       "     nit: 18\n",
       "    njev: 1399\n",
       "  status: 2\n",
       " success: False\n",
       "       x: array([-1.88886436e+51])"
      ]
     },
     "execution_count": 10,
     "metadata": {},
     "output_type": "execute_result"
    }
   ],
   "source": [
    "optimize.minimize(func, 0, method='CG')# 'CG','BFGS','Newton-CG','L-BFGS-B','TNC','COBYLA','SLSQP'"
   ]
  },
  {
   "cell_type": "markdown",
   "id": "5a910207",
   "metadata": {
    "papermill": {
     "duration": 0.013978,
     "end_time": "2022-10-13T05:41:52.125919",
     "exception": false,
     "start_time": "2022-10-13T05:41:52.111941",
     "status": "completed"
    },
    "tags": []
   },
   "source": [
    "# Sparse Data"
   ]
  },
  {
   "cell_type": "code",
   "execution_count": 11,
   "id": "7a98e760",
   "metadata": {
    "execution": {
     "iopub.execute_input": "2022-10-13T05:41:52.155037Z",
     "iopub.status.busy": "2022-10-13T05:41:52.154133Z",
     "iopub.status.idle": "2022-10-13T05:41:52.158323Z",
     "shell.execute_reply": "2022-10-13T05:41:52.157554Z"
    },
    "papermill": {
     "duration": 0.020699,
     "end_time": "2022-10-13T05:41:52.160198",
     "exception": false,
     "start_time": "2022-10-13T05:41:52.139499",
     "status": "completed"
    },
    "tags": []
   },
   "outputs": [],
   "source": [
    "from scipy import sparse"
   ]
  },
  {
   "cell_type": "code",
   "execution_count": 12,
   "id": "3da67baa",
   "metadata": {
    "execution": {
     "iopub.execute_input": "2022-10-13T05:41:52.188165Z",
     "iopub.status.busy": "2022-10-13T05:41:52.187857Z",
     "iopub.status.idle": "2022-10-13T05:41:52.192679Z",
     "shell.execute_reply": "2022-10-13T05:41:52.191842Z"
    },
    "papermill": {
     "duration": 0.021136,
     "end_time": "2022-10-13T05:41:52.194618",
     "exception": false,
     "start_time": "2022-10-13T05:41:52.173482",
     "status": "completed"
    },
    "tags": []
   },
   "outputs": [],
   "source": [
    "arr1 = np.array([3,0,1,0,0,1,0,0,0,0,21,0,0,0,5,0,0,0,0,0])"
   ]
  },
  {
   "cell_type": "code",
   "execution_count": 13,
   "id": "88ec1697",
   "metadata": {
    "execution": {
     "iopub.execute_input": "2022-10-13T05:41:52.223120Z",
     "iopub.status.busy": "2022-10-13T05:41:52.222582Z",
     "iopub.status.idle": "2022-10-13T05:41:52.230146Z",
     "shell.execute_reply": "2022-10-13T05:41:52.228819Z"
    },
    "papermill": {
     "duration": 0.024131,
     "end_time": "2022-10-13T05:41:52.232369",
     "exception": false,
     "start_time": "2022-10-13T05:41:52.208238",
     "status": "completed"
    },
    "tags": []
   },
   "outputs": [
    {
     "name": "stdout",
     "output_type": "stream",
     "text": [
      "  (0, 0)\t3\n",
      "  (0, 2)\t1\n",
      "  (0, 5)\t1\n",
      "  (0, 10)\t21\n",
      "  (0, 14)\t5\n"
     ]
    }
   ],
   "source": [
    "print(sparse.csr_matrix(arr1))"
   ]
  },
  {
   "cell_type": "code",
   "execution_count": 14,
   "id": "f3afeb89",
   "metadata": {
    "execution": {
     "iopub.execute_input": "2022-10-13T05:41:52.260774Z",
     "iopub.status.busy": "2022-10-13T05:41:52.260502Z",
     "iopub.status.idle": "2022-10-13T05:41:52.267663Z",
     "shell.execute_reply": "2022-10-13T05:41:52.266734Z"
    },
    "papermill": {
     "duration": 0.023433,
     "end_time": "2022-10-13T05:41:52.269587",
     "exception": false,
     "start_time": "2022-10-13T05:41:52.246154",
     "status": "completed"
    },
    "tags": []
   },
   "outputs": [
    {
     "data": {
      "text/plain": [
       "array([ 3,  1,  1, 21,  5])"
      ]
     },
     "execution_count": 14,
     "metadata": {},
     "output_type": "execute_result"
    }
   ],
   "source": [
    "sparse.csr_matrix(arr1).data"
   ]
  },
  {
   "cell_type": "code",
   "execution_count": 15,
   "id": "880d7e82",
   "metadata": {
    "execution": {
     "iopub.execute_input": "2022-10-13T05:41:52.299720Z",
     "iopub.status.busy": "2022-10-13T05:41:52.299149Z",
     "iopub.status.idle": "2022-10-13T05:41:52.305545Z",
     "shell.execute_reply": "2022-10-13T05:41:52.304551Z"
    },
    "papermill": {
     "duration": 0.025301,
     "end_time": "2022-10-13T05:41:52.308750",
     "exception": false,
     "start_time": "2022-10-13T05:41:52.283449",
     "status": "completed"
    },
    "tags": []
   },
   "outputs": [
    {
     "name": "stdout",
     "output_type": "stream",
     "text": [
      "5\n"
     ]
    }
   ],
   "source": [
    "print(sparse.csr_matrix(arr1).count_nonzero())"
   ]
  },
  {
   "cell_type": "code",
   "execution_count": 16,
   "id": "4a155983",
   "metadata": {
    "execution": {
     "iopub.execute_input": "2022-10-13T05:41:52.340147Z",
     "iopub.status.busy": "2022-10-13T05:41:52.339527Z",
     "iopub.status.idle": "2022-10-13T05:41:52.344944Z",
     "shell.execute_reply": "2022-10-13T05:41:52.343737Z"
    },
    "papermill": {
     "duration": 0.022866,
     "end_time": "2022-10-13T05:41:52.347043",
     "exception": false,
     "start_time": "2022-10-13T05:41:52.324177",
     "status": "completed"
    },
    "tags": []
   },
   "outputs": [],
   "source": [
    "arr2 = np.array([[0, 1,0], [1,0, 0], [2, 0, 0]])"
   ]
  },
  {
   "cell_type": "code",
   "execution_count": 17,
   "id": "0bc6e7a0",
   "metadata": {
    "execution": {
     "iopub.execute_input": "2022-10-13T05:41:52.375422Z",
     "iopub.status.busy": "2022-10-13T05:41:52.375108Z",
     "iopub.status.idle": "2022-10-13T05:41:52.381024Z",
     "shell.execute_reply": "2022-10-13T05:41:52.379972Z"
    },
    "papermill": {
     "duration": 0.022503,
     "end_time": "2022-10-13T05:41:52.383053",
     "exception": false,
     "start_time": "2022-10-13T05:41:52.360550",
     "status": "completed"
    },
    "tags": []
   },
   "outputs": [
    {
     "name": "stdout",
     "output_type": "stream",
     "text": [
      "  (1, 0)\t1\n",
      "  (2, 0)\t2\n",
      "  (0, 1)\t1\n"
     ]
    }
   ],
   "source": [
    "print(sparse.csr_matrix(arr2).tocsc())"
   ]
  },
  {
   "cell_type": "code",
   "execution_count": 18,
   "id": "d83efe07",
   "metadata": {
    "execution": {
     "iopub.execute_input": "2022-10-13T05:41:52.412156Z",
     "iopub.status.busy": "2022-10-13T05:41:52.411340Z",
     "iopub.status.idle": "2022-10-13T05:41:52.415251Z",
     "shell.execute_reply": "2022-10-13T05:41:52.414639Z"
    },
    "papermill": {
     "duration": 0.02005,
     "end_time": "2022-10-13T05:41:52.417031",
     "exception": false,
     "start_time": "2022-10-13T05:41:52.396981",
     "status": "completed"
    },
    "tags": []
   },
   "outputs": [],
   "source": [
    "from scipy.sparse.csgraph import connected_components"
   ]
  },
  {
   "cell_type": "code",
   "execution_count": 19,
   "id": "db08120d",
   "metadata": {
    "execution": {
     "iopub.execute_input": "2022-10-13T05:41:52.445038Z",
     "iopub.status.busy": "2022-10-13T05:41:52.444749Z",
     "iopub.status.idle": "2022-10-13T05:41:52.452428Z",
     "shell.execute_reply": "2022-10-13T05:41:52.451372Z"
    },
    "papermill": {
     "duration": 0.02409,
     "end_time": "2022-10-13T05:41:52.454476",
     "exception": false,
     "start_time": "2022-10-13T05:41:52.430386",
     "status": "completed"
    },
    "tags": []
   },
   "outputs": [
    {
     "name": "stdout",
     "output_type": "stream",
     "text": [
      "(1, array([0, 0, 0], dtype=int32))\n"
     ]
    }
   ],
   "source": [
    "arr = np.array([\n",
    "  [0, 1, 2],\n",
    "  [1, 0, 0],\n",
    "  [2, 0, 0]\n",
    "])\n",
    "\n",
    "newarr = sparse.csr_matrix(arr)\n",
    "\n",
    "print(connected_components(newarr))"
   ]
  },
  {
   "cell_type": "markdown",
   "id": "4c42f6cd",
   "metadata": {
    "papermill": {
     "duration": 0.013352,
     "end_time": "2022-10-13T05:41:52.481656",
     "exception": false,
     "start_time": "2022-10-13T05:41:52.468304",
     "status": "completed"
    },
    "tags": []
   },
   "source": [
    "# Dijkstra"
   ]
  },
  {
   "cell_type": "code",
   "execution_count": 20,
   "id": "a7e590f1",
   "metadata": {
    "execution": {
     "iopub.execute_input": "2022-10-13T05:41:52.510471Z",
     "iopub.status.busy": "2022-10-13T05:41:52.509899Z",
     "iopub.status.idle": "2022-10-13T05:41:52.513786Z",
     "shell.execute_reply": "2022-10-13T05:41:52.512902Z"
    },
    "papermill": {
     "duration": 0.020352,
     "end_time": "2022-10-13T05:41:52.515641",
     "exception": false,
     "start_time": "2022-10-13T05:41:52.495289",
     "status": "completed"
    },
    "tags": []
   },
   "outputs": [],
   "source": [
    "from scipy.sparse.csgraph import dijkstra"
   ]
  },
  {
   "cell_type": "code",
   "execution_count": 21,
   "id": "0b8cd171",
   "metadata": {
    "execution": {
     "iopub.execute_input": "2022-10-13T05:41:52.545880Z",
     "iopub.status.busy": "2022-10-13T05:41:52.545301Z",
     "iopub.status.idle": "2022-10-13T05:41:52.550710Z",
     "shell.execute_reply": "2022-10-13T05:41:52.549734Z"
    },
    "papermill": {
     "duration": 0.022762,
     "end_time": "2022-10-13T05:41:52.552571",
     "exception": false,
     "start_time": "2022-10-13T05:41:52.529809",
     "status": "completed"
    },
    "tags": []
   },
   "outputs": [
    {
     "name": "stdout",
     "output_type": "stream",
     "text": [
      "(array([0., 1., 2.]), array([-9999,     0,     0], dtype=int32))\n"
     ]
    }
   ],
   "source": [
    "print(dijkstra(newarr, return_predecessors=True, indices=0))"
   ]
  },
  {
   "cell_type": "markdown",
   "id": "6b7db13f",
   "metadata": {
    "papermill": {
     "duration": 0.014084,
     "end_time": "2022-10-13T05:41:52.580904",
     "exception": false,
     "start_time": "2022-10-13T05:41:52.566820",
     "status": "completed"
    },
    "tags": []
   },
   "source": [
    "# Floyd Warshall"
   ]
  },
  {
   "cell_type": "code",
   "execution_count": 22,
   "id": "6d9b5eb3",
   "metadata": {
    "execution": {
     "iopub.execute_input": "2022-10-13T05:41:52.611109Z",
     "iopub.status.busy": "2022-10-13T05:41:52.610539Z",
     "iopub.status.idle": "2022-10-13T05:41:52.614156Z",
     "shell.execute_reply": "2022-10-13T05:41:52.613488Z"
    },
    "papermill": {
     "duration": 0.020589,
     "end_time": "2022-10-13T05:41:52.615863",
     "exception": false,
     "start_time": "2022-10-13T05:41:52.595274",
     "status": "completed"
    },
    "tags": []
   },
   "outputs": [],
   "source": [
    "from scipy.sparse.csgraph import floyd_warshall"
   ]
  },
  {
   "cell_type": "code",
   "execution_count": 23,
   "id": "f0f54293",
   "metadata": {
    "execution": {
     "iopub.execute_input": "2022-10-13T05:41:52.646137Z",
     "iopub.status.busy": "2022-10-13T05:41:52.645550Z",
     "iopub.status.idle": "2022-10-13T05:41:52.650978Z",
     "shell.execute_reply": "2022-10-13T05:41:52.649830Z"
    },
    "papermill": {
     "duration": 0.022708,
     "end_time": "2022-10-13T05:41:52.653093",
     "exception": false,
     "start_time": "2022-10-13T05:41:52.630385",
     "status": "completed"
    },
    "tags": []
   },
   "outputs": [
    {
     "name": "stdout",
     "output_type": "stream",
     "text": [
      "(array([[0., 1., 2.],\n",
      "       [1., 0., 3.],\n",
      "       [2., 3., 0.]]), array([[-9999,     0,     0],\n",
      "       [    1, -9999,     0],\n",
      "       [    2,     0, -9999]], dtype=int32))\n"
     ]
    }
   ],
   "source": [
    "print(floyd_warshall(newarr, return_predecessors=True))"
   ]
  },
  {
   "cell_type": "markdown",
   "id": "d7996a6a",
   "metadata": {
    "papermill": {
     "duration": 0.014233,
     "end_time": "2022-10-13T05:41:52.681746",
     "exception": false,
     "start_time": "2022-10-13T05:41:52.667513",
     "status": "completed"
    },
    "tags": []
   },
   "source": [
    "# Bellman Ford"
   ]
  },
  {
   "cell_type": "code",
   "execution_count": 24,
   "id": "8a2c4207",
   "metadata": {
    "execution": {
     "iopub.execute_input": "2022-10-13T05:41:52.712611Z",
     "iopub.status.busy": "2022-10-13T05:41:52.712249Z",
     "iopub.status.idle": "2022-10-13T05:41:52.716847Z",
     "shell.execute_reply": "2022-10-13T05:41:52.715807Z"
    },
    "papermill": {
     "duration": 0.022382,
     "end_time": "2022-10-13T05:41:52.718700",
     "exception": false,
     "start_time": "2022-10-13T05:41:52.696318",
     "status": "completed"
    },
    "tags": []
   },
   "outputs": [],
   "source": [
    "from scipy.sparse.csgraph import bellman_ford"
   ]
  },
  {
   "cell_type": "code",
   "execution_count": 25,
   "id": "38126ba8",
   "metadata": {
    "execution": {
     "iopub.execute_input": "2022-10-13T05:41:52.748373Z",
     "iopub.status.busy": "2022-10-13T05:41:52.748087Z",
     "iopub.status.idle": "2022-10-13T05:41:52.754162Z",
     "shell.execute_reply": "2022-10-13T05:41:52.752662Z"
    },
    "papermill": {
     "duration": 0.023328,
     "end_time": "2022-10-13T05:41:52.756246",
     "exception": false,
     "start_time": "2022-10-13T05:41:52.732918",
     "status": "completed"
    },
    "tags": []
   },
   "outputs": [
    {
     "name": "stdout",
     "output_type": "stream",
     "text": [
      "(array([0., 1., 2.]), array([-9999,     0,     0], dtype=int32))\n"
     ]
    }
   ],
   "source": [
    "print(bellman_ford(newarr, return_predecessors=True, indices=0))"
   ]
  },
  {
   "cell_type": "markdown",
   "id": "02557bb6",
   "metadata": {
    "papermill": {
     "duration": 0.014101,
     "end_time": "2022-10-13T05:41:52.784855",
     "exception": false,
     "start_time": "2022-10-13T05:41:52.770754",
     "status": "completed"
    },
    "tags": []
   },
   "source": [
    "# Depth First Order"
   ]
  },
  {
   "cell_type": "code",
   "execution_count": 26,
   "id": "4694fc2e",
   "metadata": {
    "execution": {
     "iopub.execute_input": "2022-10-13T05:41:52.815521Z",
     "iopub.status.busy": "2022-10-13T05:41:52.815182Z",
     "iopub.status.idle": "2022-10-13T05:41:52.819427Z",
     "shell.execute_reply": "2022-10-13T05:41:52.818400Z"
    },
    "papermill": {
     "duration": 0.022365,
     "end_time": "2022-10-13T05:41:52.821566",
     "exception": false,
     "start_time": "2022-10-13T05:41:52.799201",
     "status": "completed"
    },
    "tags": []
   },
   "outputs": [],
   "source": [
    "from scipy.sparse.csgraph import depth_first_order"
   ]
  },
  {
   "cell_type": "code",
   "execution_count": 27,
   "id": "fdc07b4e",
   "metadata": {
    "execution": {
     "iopub.execute_input": "2022-10-13T05:41:52.852818Z",
     "iopub.status.busy": "2022-10-13T05:41:52.852493Z",
     "iopub.status.idle": "2022-10-13T05:41:52.858528Z",
     "shell.execute_reply": "2022-10-13T05:41:52.856911Z"
    },
    "papermill": {
     "duration": 0.024282,
     "end_time": "2022-10-13T05:41:52.860800",
     "exception": false,
     "start_time": "2022-10-13T05:41:52.836518",
     "status": "completed"
    },
    "tags": []
   },
   "outputs": [
    {
     "name": "stdout",
     "output_type": "stream",
     "text": [
      "(array([1, 0, 2], dtype=int32), array([    1, -9999,     0], dtype=int32))\n"
     ]
    }
   ],
   "source": [
    "print(depth_first_order(newarr, 1))"
   ]
  },
  {
   "cell_type": "markdown",
   "id": "84e51d2c",
   "metadata": {
    "papermill": {
     "duration": 0.014189,
     "end_time": "2022-10-13T05:41:52.890254",
     "exception": false,
     "start_time": "2022-10-13T05:41:52.876065",
     "status": "completed"
    },
    "tags": []
   },
   "source": [
    "# Breadth First Order"
   ]
  },
  {
   "cell_type": "code",
   "execution_count": 28,
   "id": "2cba4e2a",
   "metadata": {
    "execution": {
     "iopub.execute_input": "2022-10-13T05:41:52.921794Z",
     "iopub.status.busy": "2022-10-13T05:41:52.921422Z",
     "iopub.status.idle": "2022-10-13T05:41:52.925802Z",
     "shell.execute_reply": "2022-10-13T05:41:52.925077Z"
    },
    "papermill": {
     "duration": 0.022674,
     "end_time": "2022-10-13T05:41:52.927710",
     "exception": false,
     "start_time": "2022-10-13T05:41:52.905036",
     "status": "completed"
    },
    "tags": []
   },
   "outputs": [],
   "source": [
    "from scipy.sparse.csgraph import breadth_first_order"
   ]
  },
  {
   "cell_type": "code",
   "execution_count": 29,
   "id": "e2a0ddc2",
   "metadata": {
    "execution": {
     "iopub.execute_input": "2022-10-13T05:41:52.959522Z",
     "iopub.status.busy": "2022-10-13T05:41:52.959143Z",
     "iopub.status.idle": "2022-10-13T05:41:52.965907Z",
     "shell.execute_reply": "2022-10-13T05:41:52.964338Z"
    },
    "papermill": {
     "duration": 0.025203,
     "end_time": "2022-10-13T05:41:52.967991",
     "exception": false,
     "start_time": "2022-10-13T05:41:52.942788",
     "status": "completed"
    },
    "tags": []
   },
   "outputs": [
    {
     "name": "stdout",
     "output_type": "stream",
     "text": [
      "(array([1, 0, 2], dtype=int32), array([    1, -9999,     0], dtype=int32))\n"
     ]
    }
   ],
   "source": [
    "print(breadth_first_order(newarr, 1))"
   ]
  },
  {
   "cell_type": "markdown",
   "id": "6e5a86c1",
   "metadata": {
    "papermill": {
     "duration": 0.014739,
     "end_time": "2022-10-13T05:41:52.997384",
     "exception": false,
     "start_time": "2022-10-13T05:41:52.982645",
     "status": "completed"
    },
    "tags": []
   },
   "source": [
    "# Triangulation"
   ]
  },
  {
   "cell_type": "code",
   "execution_count": 30,
   "id": "c4a56770",
   "metadata": {
    "execution": {
     "iopub.execute_input": "2022-10-13T05:41:53.028563Z",
     "iopub.status.busy": "2022-10-13T05:41:53.028136Z",
     "iopub.status.idle": "2022-10-13T05:41:53.276133Z",
     "shell.execute_reply": "2022-10-13T05:41:53.275381Z"
    },
    "papermill": {
     "duration": 0.265875,
     "end_time": "2022-10-13T05:41:53.277872",
     "exception": false,
     "start_time": "2022-10-13T05:41:53.011997",
     "status": "completed"
    },
    "tags": []
   },
   "outputs": [
    {
     "data": {
      "image/png": "[encoded data removed]",
      "text/plain": [
       "<Figure size 432x288 with 1 Axes>"
      ]
     },
     "metadata": {
      "needs_background": "light"
     },
     "output_type": "display_data"
    }
   ],
   "source": [
    "from scipy.spatial import Delaunay\n",
    "\n",
    "points = np.array([\n",
    "  [2, 4],\n",
    "  [3, 4],\n",
    "  [3, 0],\n",
    "  [2, 2],\n",
    "  [4, 1]\n",
    "])\n",
    "\n",
    "simplices = Delaunay(points).simplices\n",
    "\n",
    "plt.triplot(points[:, 0], points[:, 1], simplices)\n",
    "plt.scatter(points[:, 0], points[:, 1], color='r')\n",
    "\n",
    "plt.show()"
   ]
  },
  {
   "cell_type": "markdown",
   "id": "0eb5476f",
   "metadata": {
    "papermill": {
     "duration": 0.013781,
     "end_time": "2022-10-13T05:41:53.306292",
     "exception": false,
     "start_time": "2022-10-13T05:41:53.292511",
     "status": "completed"
    },
    "tags": []
   },
   "source": [
    "# Convex Hull"
   ]
  },
  {
   "cell_type": "code",
   "execution_count": 31,
   "id": "65a8369c",
   "metadata": {
    "execution": {
     "iopub.execute_input": "2022-10-13T05:41:53.336624Z",
     "iopub.status.busy": "2022-10-13T05:41:53.336256Z",
     "iopub.status.idle": "2022-10-13T05:41:53.340297Z",
     "shell.execute_reply": "2022-10-13T05:41:53.339354Z"
    },
    "papermill": {
     "duration": 0.021698,
     "end_time": "2022-10-13T05:41:53.342262",
     "exception": false,
     "start_time": "2022-10-13T05:41:53.320564",
     "status": "completed"
    },
    "tags": []
   },
   "outputs": [],
   "source": [
    "from scipy.spatial import ConvexHull"
   ]
  },
  {
   "cell_type": "code",
   "execution_count": 32,
   "id": "b0c0cc2d",
   "metadata": {
    "execution": {
     "iopub.execute_input": "2022-10-13T05:41:53.373541Z",
     "iopub.status.busy": "2022-10-13T05:41:53.373171Z",
     "iopub.status.idle": "2022-10-13T05:41:53.576238Z",
     "shell.execute_reply": "2022-10-13T05:41:53.575161Z"
    },
    "papermill": {
     "duration": 0.221884,
     "end_time": "2022-10-13T05:41:53.578789",
     "exception": false,
     "start_time": "2022-10-13T05:41:53.356905",
     "status": "completed"
    },
    "tags": []
   },
   "outputs": [
    {
     "data": {
      "image/png": "[encoded data removed]",
      "text/plain": [
       "<Figure size 432x288 with 1 Axes>"
      ]
     },
     "metadata": {
      "needs_background": "light"
     },
     "output_type": "display_data"
    }
   ],
   "source": [
    "points = np.array([\n",
    "  [2, 4],\n",
    "  [3, 4],\n",
    "  [3, 0],\n",
    "  [2, 2],\n",
    "  [4, 1],\n",
    "  [1, 2],\n",
    "  [5, 0],\n",
    "  [3, 1],\n",
    "  [1, 2],\n",
    "  [0, 2]\n",
    "])\n",
    "\n",
    "hull = ConvexHull(points)\n",
    "hull_points = hull.simplices\n",
    "\n",
    "plt.scatter(points[:,0], points[:,1])\n",
    "for simplex in hull_points:\n",
    "  plt.plot(points[simplex,0], points[simplex,1], 'k-')\n",
    "\n",
    "plt.show()"
   ]
  },
  {
   "cell_type": "markdown",
   "id": "3f74217d",
   "metadata": {
    "papermill": {
     "duration": 0.015417,
     "end_time": "2022-10-13T05:41:53.609545",
     "exception": false,
     "start_time": "2022-10-13T05:41:53.594128",
     "status": "completed"
    },
    "tags": []
   },
   "source": [
    "# KDTrees"
   ]
  },
  {
   "cell_type": "code",
   "execution_count": 33,
   "id": "963e2517",
   "metadata": {
    "execution": {
     "iopub.execute_input": "2022-10-13T05:41:53.642071Z",
     "iopub.status.busy": "2022-10-13T05:41:53.641537Z",
     "iopub.status.idle": "2022-10-13T05:41:53.649758Z",
     "shell.execute_reply": "2022-10-13T05:41:53.648710Z"
    },
    "papermill": {
     "duration": 0.026939,
     "end_time": "2022-10-13T05:41:53.651935",
     "exception": false,
     "start_time": "2022-10-13T05:41:53.624996",
     "status": "completed"
    },
    "tags": []
   },
   "outputs": [
    {
     "name": "stdout",
     "output_type": "stream",
     "text": [
      "(2.0, 0)\n"
     ]
    }
   ],
   "source": [
    "from scipy.spatial import KDTree\n",
    "\n",
    "points = [(1, -1), (2, 3), (-2, 3), (2, -3)]\n",
    "\n",
    "kdtree = KDTree(points)\n",
    "\n",
    "res = kdtree.query((1, 1))\n",
    "\n",
    "print(res)"
   ]
  },
  {
   "cell_type": "markdown",
   "id": "b1595308",
   "metadata": {
    "papermill": {
     "duration": 0.014581,
     "end_time": "2022-10-13T05:41:53.682140",
     "exception": false,
     "start_time": "2022-10-13T05:41:53.667559",
     "status": "completed"
    },
    "tags": []
   },
   "source": [
    "# Euclidean Distance"
   ]
  },
  {
   "cell_type": "code",
   "execution_count": 34,
   "id": "56b52415",
   "metadata": {
    "execution": {
     "iopub.execute_input": "2022-10-13T05:41:53.720377Z",
     "iopub.status.busy": "2022-10-13T05:41:53.719508Z",
     "iopub.status.idle": "2022-10-13T05:41:53.725741Z",
     "shell.execute_reply": "2022-10-13T05:41:53.724674Z"
    },
    "papermill": {
     "duration": 0.032134,
     "end_time": "2022-10-13T05:41:53.729049",
     "exception": false,
     "start_time": "2022-10-13T05:41:53.696915",
     "status": "completed"
    },
    "tags": []
   },
   "outputs": [
    {
     "name": "stdout",
     "output_type": "stream",
     "text": [
      "9.219544457292887\n"
     ]
    }
   ],
   "source": [
    "from scipy.spatial.distance import euclidean\n",
    "\n",
    "p1 = (1, 0)\n",
    "p2 = (10, 2)\n",
    "\n",
    "res = euclidean(p1, p2)\n",
    "\n",
    "print(res)"
   ]
  },
  {
   "cell_type": "markdown",
   "id": "26bd9493",
   "metadata": {
    "papermill": {
     "duration": 0.01837,
     "end_time": "2022-10-13T05:41:53.767364",
     "exception": false,
     "start_time": "2022-10-13T05:41:53.748994",
     "status": "completed"
    },
    "tags": []
   },
   "source": [
    "# Manhattan Distance"
   ]
  },
  {
   "cell_type": "code",
   "execution_count": 35,
   "id": "8a302de9",
   "metadata": {
    "execution": {
     "iopub.execute_input": "2022-10-13T05:41:53.805013Z",
     "iopub.status.busy": "2022-10-13T05:41:53.804303Z",
     "iopub.status.idle": "2022-10-13T05:41:53.810868Z",
     "shell.execute_reply": "2022-10-13T05:41:53.809627Z"
    },
    "papermill": {
     "duration": 0.028223,
     "end_time": "2022-10-13T05:41:53.813455",
     "exception": false,
     "start_time": "2022-10-13T05:41:53.785232",
     "status": "completed"
    },
    "tags": []
   },
   "outputs": [
    {
     "name": "stdout",
     "output_type": "stream",
     "text": [
      "11\n"
     ]
    }
   ],
   "source": [
    "from scipy.spatial.distance import cityblock\n",
    "\n",
    "p1 = (1, 0)\n",
    "p2 = (10, 2)\n",
    "\n",
    "res = cityblock(p1, p2)\n",
    "\n",
    "print(res)"
   ]
  },
  {
   "cell_type": "markdown",
   "id": "9556f85d",
   "metadata": {
    "papermill": {
     "duration": 0.014622,
     "end_time": "2022-10-13T05:41:53.843802",
     "exception": false,
     "start_time": "2022-10-13T05:41:53.829180",
     "status": "completed"
    },
    "tags": []
   },
   "source": [
    "# Cosine Distance"
   ]
  },
  {
   "cell_type": "code",
   "execution_count": 36,
   "id": "8952d261",
   "metadata": {
    "execution": {
     "iopub.execute_input": "2022-10-13T05:41:53.875599Z",
     "iopub.status.busy": "2022-10-13T05:41:53.874545Z",
     "iopub.status.idle": "2022-10-13T05:41:53.880783Z",
     "shell.execute_reply": "2022-10-13T05:41:53.879793Z"
    },
    "papermill": {
     "duration": 0.024079,
     "end_time": "2022-10-13T05:41:53.882880",
     "exception": false,
     "start_time": "2022-10-13T05:41:53.858801",
     "status": "completed"
    },
    "tags": []
   },
   "outputs": [
    {
     "name": "stdout",
     "output_type": "stream",
     "text": [
      "0.019419324309079777\n"
     ]
    }
   ],
   "source": [
    "from scipy.spatial.distance import cosine\n",
    "\n",
    "p1 = (1, 0)\n",
    "p2 = (10, 2)\n",
    "\n",
    "res = cosine(p1, p2)\n",
    "\n",
    "print(res)"
   ]
  },
  {
   "cell_type": "markdown",
   "id": "dc9f1562",
   "metadata": {
    "papermill": {
     "duration": 0.014506,
     "end_time": "2022-10-13T05:41:53.912830",
     "exception": false,
     "start_time": "2022-10-13T05:41:53.898324",
     "status": "completed"
    },
    "tags": []
   },
   "source": [
    "# Hamming Distance"
   ]
  },
  {
   "cell_type": "code",
   "execution_count": 37,
   "id": "aa6e09a9",
   "metadata": {
    "execution": {
     "iopub.execute_input": "2022-10-13T05:41:53.945054Z",
     "iopub.status.busy": "2022-10-13T05:41:53.944669Z",
     "iopub.status.idle": "2022-10-13T05:41:53.949699Z",
     "shell.execute_reply": "2022-10-13T05:41:53.948725Z"
    },
    "papermill": {
     "duration": 0.025746,
     "end_time": "2022-10-13T05:41:53.953192",
     "exception": false,
     "start_time": "2022-10-13T05:41:53.927446",
     "status": "completed"
    },
    "tags": []
   },
   "outputs": [
    {
     "name": "stdout",
     "output_type": "stream",
     "text": [
      "0.6666666666666666\n"
     ]
    }
   ],
   "source": [
    "from scipy.spatial.distance import hamming\n",
    "\n",
    "p1 = (True, False, True)\n",
    "p2 = (False, True, True)\n",
    "\n",
    "res = hamming(p1, p2)\n",
    "\n",
    "print(res)"
   ]
  },
  {
   "cell_type": "markdown",
   "id": "68e0c1e2",
   "metadata": {
    "papermill": {
     "duration": 0.015333,
     "end_time": "2022-10-13T05:41:53.985483",
     "exception": false,
     "start_time": "2022-10-13T05:41:53.970150",
     "status": "completed"
    },
    "tags": []
   },
   "source": [
    "# Matlab Arrays"
   ]
  },
  {
   "cell_type": "code",
   "execution_count": 38,
   "id": "c2f41735",
   "metadata": {
    "execution": {
     "iopub.execute_input": "2022-10-13T05:41:54.017283Z",
     "iopub.status.busy": "2022-10-13T05:41:54.016944Z",
     "iopub.status.idle": "2022-10-13T05:41:54.140997Z",
     "shell.execute_reply": "2022-10-13T05:41:54.139830Z"
    },
    "papermill": {
     "duration": 0.143262,
     "end_time": "2022-10-13T05:41:54.143631",
     "exception": false,
     "start_time": "2022-10-13T05:41:54.000369",
     "status": "completed"
    },
    "tags": []
   },
   "outputs": [],
   "source": [
    "from scipy import io\n",
    "\n",
    "arr = np.arange(10)\n",
    "\n",
    "io.savemat('arr.mat', {\"vec\": arr})"
   ]
  },
  {
   "cell_type": "code",
   "execution_count": 39,
   "id": "0ea15d05",
   "metadata": {
    "execution": {
     "iopub.execute_input": "2022-10-13T05:41:54.175780Z",
     "iopub.status.busy": "2022-10-13T05:41:54.175474Z",
     "iopub.status.idle": "2022-10-13T05:41:54.182074Z",
     "shell.execute_reply": "2022-10-13T05:41:54.180612Z"
    },
    "papermill": {
     "duration": 0.024842,
     "end_time": "2022-10-13T05:41:54.184185",
     "exception": false,
     "start_time": "2022-10-13T05:41:54.159343",
     "status": "completed"
    },
    "tags": []
   },
   "outputs": [
    {
     "name": "stdout",
     "output_type": "stream",
     "text": [
      "{'__header__': b'MATLAB 5.0 MAT-file Platform: posix, Created on: Thu Oct 13 05:41:54 2022', '__version__': '1.0', '__globals__': [], 'vec': array([[0, 1, 2, 3, 4, 5, 6, 7, 8, 9]])}\n"
     ]
    }
   ],
   "source": [
    "io.savemat('arr.mat', {\"vec\": arr})\n",
    "\n",
    "# Import:\n",
    "mydata = io.loadmat('arr.mat')\n",
    "\n",
    "print(mydata)"
   ]
  },
  {
   "cell_type": "code",
   "execution_count": 40,
   "id": "989a80ee",
   "metadata": {
    "execution": {
     "iopub.execute_input": "2022-10-13T05:41:54.215949Z",
     "iopub.status.busy": "2022-10-13T05:41:54.215645Z",
     "iopub.status.idle": "2022-10-13T05:41:54.221057Z",
     "shell.execute_reply": "2022-10-13T05:41:54.219803Z"
    },
    "papermill": {
     "duration": 0.024011,
     "end_time": "2022-10-13T05:41:54.223453",
     "exception": false,
     "start_time": "2022-10-13T05:41:54.199442",
     "status": "completed"
    },
    "tags": []
   },
   "outputs": [
    {
     "name": "stdout",
     "output_type": "stream",
     "text": [
      "[[0 1 2 3 4 5 6 7 8 9]]\n"
     ]
    }
   ],
   "source": [
    "print(mydata['vec'])"
   ]
  },
  {
   "cell_type": "code",
   "execution_count": 41,
   "id": "a4cdecc7",
   "metadata": {
    "execution": {
     "iopub.execute_input": "2022-10-13T05:41:54.256817Z",
     "iopub.status.busy": "2022-10-13T05:41:54.256051Z",
     "iopub.status.idle": "2022-10-13T05:41:54.261318Z",
     "shell.execute_reply": "2022-10-13T05:41:54.260382Z"
    },
    "papermill": {
     "duration": 0.023993,
     "end_time": "2022-10-13T05:41:54.263820",
     "exception": false,
     "start_time": "2022-10-13T05:41:54.239827",
     "status": "completed"
    },
    "tags": []
   },
   "outputs": [
    {
     "name": "stdout",
     "output_type": "stream",
     "text": [
      "[0 1 2 3 4 5 6 7 8 9]\n"
     ]
    }
   ],
   "source": [
    "mydata = io.loadmat('arr.mat', squeeze_me=True)\n",
    "\n",
    "print(mydata['vec'])"
   ]
  },
  {
   "cell_type": "markdown",
   "id": "550bd6d9",
   "metadata": {
    "papermill": {
     "duration": 0.015089,
     "end_time": "2022-10-13T05:41:54.295107",
     "exception": false,
     "start_time": "2022-10-13T05:41:54.280018",
     "status": "completed"
    },
    "tags": []
   },
   "source": [
    "# 1D Interpolation"
   ]
  },
  {
   "cell_type": "code",
   "execution_count": 42,
   "id": "fba5e215",
   "metadata": {
    "execution": {
     "iopub.execute_input": "2022-10-13T05:41:54.326721Z",
     "iopub.status.busy": "2022-10-13T05:41:54.326381Z",
     "iopub.status.idle": "2022-10-13T05:41:54.360604Z",
     "shell.execute_reply": "2022-10-13T05:41:54.359476Z"
    },
    "papermill": {
     "duration": 0.052147,
     "end_time": "2022-10-13T05:41:54.362382",
     "exception": false,
     "start_time": "2022-10-13T05:41:54.310235",
     "status": "completed"
    },
    "tags": []
   },
   "outputs": [
    {
     "name": "stdout",
     "output_type": "stream",
     "text": [
      "[5.2 5.4 5.6 5.8 6.  6.2 6.4 6.6 6.8]\n"
     ]
    }
   ],
   "source": [
    "from scipy.interpolate import interp1d\n",
    "\n",
    "xs = np.arange(10)\n",
    "ys = 2*xs + 1\n",
    "\n",
    "interp_func = interp1d(xs, ys)\n",
    "\n",
    "newarr = interp_func(np.arange(2.1, 3, 0.1))\n",
    "\n",
    "print(newarr)"
   ]
  },
  {
   "cell_type": "markdown",
   "id": "e0801fb3",
   "metadata": {
    "papermill": {
     "duration": 0.015195,
     "end_time": "2022-10-13T05:41:54.392722",
     "exception": false,
     "start_time": "2022-10-13T05:41:54.377527",
     "status": "completed"
    },
    "tags": []
   },
   "source": [
    "# Spline Interpolation"
   ]
  },
  {
   "cell_type": "code",
   "execution_count": 43,
   "id": "030d4df5",
   "metadata": {
    "execution": {
     "iopub.execute_input": "2022-10-13T05:41:54.426678Z",
     "iopub.status.busy": "2022-10-13T05:41:54.425838Z",
     "iopub.status.idle": "2022-10-13T05:41:54.432971Z",
     "shell.execute_reply": "2022-10-13T05:41:54.431801Z"
    },
    "papermill": {
     "duration": 0.026034,
     "end_time": "2022-10-13T05:41:54.435863",
     "exception": false,
     "start_time": "2022-10-13T05:41:54.409829",
     "status": "completed"
    },
    "tags": []
   },
   "outputs": [
    {
     "name": "stdout",
     "output_type": "stream",
     "text": [
      "[5.2 5.4 5.6 5.8 6.  6.2 6.4 6.6 6.8]\n"
     ]
    }
   ],
   "source": [
    "from scipy.interpolate import UnivariateSpline\n",
    "interp_func = UnivariateSpline(xs, ys)\n",
    "\n",
    "newarr = interp_func(np.arange(2.1, 3, 0.1))\n",
    "\n",
    "print(newarr)"
   ]
  },
  {
   "cell_type": "markdown",
   "id": "f113d659",
   "metadata": {
    "papermill": {
     "duration": 0.015322,
     "end_time": "2022-10-13T05:41:54.467040",
     "exception": false,
     "start_time": "2022-10-13T05:41:54.451718",
     "status": "completed"
    },
    "tags": []
   },
   "source": [
    "# Interpolation with Radial Basis Function"
   ]
  },
  {
   "cell_type": "code",
   "execution_count": 44,
   "id": "b4a6365f",
   "metadata": {
    "execution": {
     "iopub.execute_input": "2022-10-13T05:41:54.501797Z",
     "iopub.status.busy": "2022-10-13T05:41:54.500954Z",
     "iopub.status.idle": "2022-10-13T05:41:54.517246Z",
     "shell.execute_reply": "2022-10-13T05:41:54.516038Z"
    },
    "papermill": {
     "duration": 0.035891,
     "end_time": "2022-10-13T05:41:54.519906",
     "exception": false,
     "start_time": "2022-10-13T05:41:54.484015",
     "status": "completed"
    },
    "tags": []
   },
   "outputs": [
    {
     "name": "stdout",
     "output_type": "stream",
     "text": [
      "[5.19230156 5.38693145 5.58394432 5.78314562 5.98416725 6.18654187\n",
      " 6.38976679 6.59335582 6.79688027]\n"
     ]
    }
   ],
   "source": [
    "from scipy.interpolate import Rbf\n",
    "interp_func = Rbf(xs, ys)\n",
    "\n",
    "newarr = interp_func(np.arange(2.1, 3, 0.1))\n",
    "\n",
    "print(newarr)"
   ]
  },
  {
   "cell_type": "markdown",
   "id": "9425e548",
   "metadata": {
    "papermill": {
     "duration": 0.015873,
     "end_time": "2022-10-13T05:41:54.551892",
     "exception": false,
     "start_time": "2022-10-13T05:41:54.536019",
     "status": "completed"
    },
    "tags": []
   },
   "source": [
    "# T-Test"
   ]
  },
  {
   "cell_type": "code",
   "execution_count": 45,
   "id": "1bc0e106",
   "metadata": {
    "execution": {
     "iopub.execute_input": "2022-10-13T05:41:54.584374Z",
     "iopub.status.busy": "2022-10-13T05:41:54.584012Z",
     "iopub.status.idle": "2022-10-13T05:41:54.811891Z",
     "shell.execute_reply": "2022-10-13T05:41:54.810470Z"
    },
    "papermill": {
     "duration": 0.24679,
     "end_time": "2022-10-13T05:41:54.814301",
     "exception": false,
     "start_time": "2022-10-13T05:41:54.567511",
     "status": "completed"
    },
    "tags": []
   },
   "outputs": [
    {
     "name": "stdout",
     "output_type": "stream",
     "text": [
      "Ttest_indResult(statistic=-1.6792943104180302, pvalue=0.09467198404649362)\n"
     ]
    }
   ],
   "source": [
    "from scipy.stats import ttest_ind\n",
    "\n",
    "v1 = np.random.normal(size=100)\n",
    "v2 = np.random.normal(size=100)\n",
    "\n",
    "res = ttest_ind(v1, v2)\n",
    "\n",
    "print(res)"
   ]
  },
  {
   "cell_type": "markdown",
   "id": "4626ef88",
   "metadata": {
    "papermill": {
     "duration": 0.015979,
     "end_time": "2022-10-13T05:41:54.846970",
     "exception": false,
     "start_time": "2022-10-13T05:41:54.830991",
     "status": "completed"
    },
    "tags": []
   },
   "source": [
    "# P value "
   ]
  },
  {
   "cell_type": "code",
   "execution_count": 46,
   "id": "55543736",
   "metadata": {
    "execution": {
     "iopub.execute_input": "2022-10-13T05:41:54.880912Z",
     "iopub.status.busy": "2022-10-13T05:41:54.880539Z",
     "iopub.status.idle": "2022-10-13T05:41:54.886871Z",
     "shell.execute_reply": "2022-10-13T05:41:54.885721Z"
    },
    "papermill": {
     "duration": 0.025974,
     "end_time": "2022-10-13T05:41:54.889165",
     "exception": false,
     "start_time": "2022-10-13T05:41:54.863191",
     "status": "completed"
    },
    "tags": []
   },
   "outputs": [
    {
     "name": "stdout",
     "output_type": "stream",
     "text": [
      "0.09467198404649362\n"
     ]
    }
   ],
   "source": [
    "res = ttest_ind(v1, v2).pvalue\n",
    "\n",
    "print(res)"
   ]
  },
  {
   "cell_type": "markdown",
   "id": "0451bdad",
   "metadata": {
    "papermill": {
     "duration": 0.016369,
     "end_time": "2022-10-13T05:41:54.921562",
     "exception": false,
     "start_time": "2022-10-13T05:41:54.905193",
     "status": "completed"
    },
    "tags": []
   },
   "source": [
    "# KS-Test\n"
   ]
  },
  {
   "cell_type": "code",
   "execution_count": 47,
   "id": "2f74fdf6",
   "metadata": {
    "execution": {
     "iopub.execute_input": "2022-10-13T05:41:54.955431Z",
     "iopub.status.busy": "2022-10-13T05:41:54.955039Z",
     "iopub.status.idle": "2022-10-13T05:41:54.965797Z",
     "shell.execute_reply": "2022-10-13T05:41:54.964669Z"
    },
    "papermill": {
     "duration": 0.029837,
     "end_time": "2022-10-13T05:41:54.967789",
     "exception": false,
     "start_time": "2022-10-13T05:41:54.937952",
     "status": "completed"
    },
    "tags": []
   },
   "outputs": [
    {
     "name": "stdout",
     "output_type": "stream",
     "text": [
      "KstestResult(statistic=0.14806656274357866, pvalue=0.022312131694875673)\n"
     ]
    }
   ],
   "source": [
    "from scipy.stats import kstest\n",
    "\n",
    "v = np.random.normal(size=100)\n",
    "\n",
    "res = kstest(v, 'norm')\n",
    "\n",
    "print(res)"
   ]
  },
  {
   "cell_type": "markdown",
   "id": "cf8c0df4",
   "metadata": {
    "papermill": {
     "duration": 0.016732,
     "end_time": "2022-10-13T05:41:55.000878",
     "exception": false,
     "start_time": "2022-10-13T05:41:54.984146",
     "status": "completed"
    },
    "tags": []
   },
   "source": [
    "# Statistical Description of Data"
   ]
  },
  {
   "cell_type": "code",
   "execution_count": 48,
   "id": "c5a4bb4f",
   "metadata": {
    "execution": {
     "iopub.execute_input": "2022-10-13T05:41:55.036676Z",
     "iopub.status.busy": "2022-10-13T05:41:55.036310Z",
     "iopub.status.idle": "2022-10-13T05:41:55.042731Z",
     "shell.execute_reply": "2022-10-13T05:41:55.041410Z"
    },
    "papermill": {
     "duration": 0.027526,
     "end_time": "2022-10-13T05:41:55.045715",
     "exception": false,
     "start_time": "2022-10-13T05:41:55.018189",
     "status": "completed"
    },
    "tags": []
   },
   "outputs": [
    {
     "name": "stdout",
     "output_type": "stream",
     "text": [
      "DescribeResult(nobs=100, minmax=(-1.9187842464290172, 2.8896282456163376), mean=0.10273792704477802, variance=0.9148860173829587, skewness=0.4611182989752967, kurtosis=0.28504525838688943)\n"
     ]
    }
   ],
   "source": [
    "from scipy.stats import describe\n",
    "\n",
    "v = np.random.normal(size=100)\n",
    "res = describe(v)\n",
    "\n",
    "print(res)"
   ]
  },
  {
   "cell_type": "markdown",
   "id": "d84e20b9",
   "metadata": {
    "papermill": {
     "duration": 0.016621,
     "end_time": "2022-10-13T05:41:55.079547",
     "exception": false,
     "start_time": "2022-10-13T05:41:55.062926",
     "status": "completed"
    },
    "tags": []
   },
   "source": [
    "# Skewness and Kurtosis "
   ]
  },
  {
   "cell_type": "code",
   "execution_count": 49,
   "id": "205bea62",
   "metadata": {
    "execution": {
     "iopub.execute_input": "2022-10-13T05:41:55.115217Z",
     "iopub.status.busy": "2022-10-13T05:41:55.114839Z",
     "iopub.status.idle": "2022-10-13T05:41:55.121950Z",
     "shell.execute_reply": "2022-10-13T05:41:55.120672Z"
    },
    "papermill": {
     "duration": 0.027917,
     "end_time": "2022-10-13T05:41:55.124341",
     "exception": false,
     "start_time": "2022-10-13T05:41:55.096424",
     "status": "completed"
    },
    "tags": []
   },
   "outputs": [
    {
     "name": "stdout",
     "output_type": "stream",
     "text": [
      "0.0906728722570156\n",
      "-0.4602682268009457\n"
     ]
    }
   ],
   "source": [
    "from scipy.stats import skew, kurtosis\n",
    "\n",
    "v = np.random.normal(size=100)\n",
    "\n",
    "print(skew(v))\n",
    "print(kurtosis(v))"
   ]
  },
  {
   "cell_type": "markdown",
   "id": "360c82c5",
   "metadata": {
    "papermill": {
     "duration": 0.016006,
     "end_time": "2022-10-13T05:41:55.157627",
     "exception": false,
     "start_time": "2022-10-13T05:41:55.141621",
     "status": "completed"
    },
    "tags": []
   },
   "source": [
    "# Normal test"
   ]
  },
  {
   "cell_type": "code",
   "execution_count": 50,
   "id": "b5381659",
   "metadata": {
    "execution": {
     "iopub.execute_input": "2022-10-13T05:41:55.190748Z",
     "iopub.status.busy": "2022-10-13T05:41:55.190434Z",
     "iopub.status.idle": "2022-10-13T05:41:55.196613Z",
     "shell.execute_reply": "2022-10-13T05:41:55.195677Z"
    },
    "papermill": {
     "duration": 0.025719,
     "end_time": "2022-10-13T05:41:55.199013",
     "exception": false,
     "start_time": "2022-10-13T05:41:55.173294",
     "status": "completed"
    },
    "tags": []
   },
   "outputs": [
    {
     "name": "stdout",
     "output_type": "stream",
     "text": [
      "NormaltestResult(statistic=0.0676284295099806, pvalue=0.9667510960435153)\n"
     ]
    }
   ],
   "source": [
    "from scipy.stats import normaltest\n",
    "\n",
    "v = np.random.normal(size=100)\n",
    "\n",
    "print(normaltest(v))"
   ]
  },
  {
   "cell_type": "code",
   "execution_count": null,
   "id": "5786b0a9",
   "metadata": {
    "papermill": {
     "duration": 0.015763,
     "end_time": "2022-10-13T05:41:55.231094",
     "exception": false,
     "start_time": "2022-10-13T05:41:55.215331",
     "status": "completed"
    },
    "tags": []
   },
   "outputs": [],
   "source": []
  }
 ],
 "metadata": {
  "kernelspec": {
   "display_name": "Python 3",
   "language": "python",
   "name": "python3"
  },
  "language_info": {
   "codemirror_mode": {
    "name": "ipython",
    "version": 3
   },
   "file_extension": ".py",
   "mimetype": "text/x-python",
   "name": "python",
   "nbconvert_exporter": "python",
   "pygments_lexer": "ipython3",
   "version": "3.7.12"
  },
  "papermill": {
   "default_parameters": {},
   "duration": 12.702757,
   "end_time": "2022-10-13T05:41:55.766642",
   "environment_variables": {},
   "exception": null,
   "input_path": "__notebook__.ipynb",
   "output_path": "__notebook__.ipynb",
   "parameters": {},
   "start_time": "2022-10-13T05:41:43.063885",
   "version": "2.3.4"
  }
 },
 "nbformat": 4,
 "nbformat_minor": 5
}
