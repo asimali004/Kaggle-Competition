{
 "cells": [
  {
   "cell_type": "code",
   "execution_count": 1,
   "id": "9a1980d8",
   "metadata": {
    "_cell_guid": "b1076dfc-b9ad-4769-8c92-a6c4dae69d19",
    "_uuid": "8f2839f25d086af736a60e9eeb907d3b93b6e0e5",
    "execution": {
     "iopub.execute_input": "2022-10-17T03:27:46.514797Z",
     "iopub.status.busy": "2022-10-17T03:27:46.513216Z",
     "iopub.status.idle": "2022-10-17T03:27:46.535448Z",
     "shell.execute_reply": "2022-10-17T03:27:46.534183Z"
    },
    "papermill": {
     "duration": 0.031393,
     "end_time": "2022-10-17T03:27:46.538596",
     "exception": false,
     "start_time": "2022-10-17T03:27:46.507203",
     "status": "completed"
    },
    "tags": []
   },
   "outputs": [
    {
     "name": "stdout",
     "output_type": "stream",
     "text": [
      "/kaggle/input/airports/airports_w_headers.csv\n"
     ]
    }
   ],
   "source": [
    "# This Python 3 environment comes with many helpful analytics libraries installed\n",
    "# It is defined by the kaggle/python Docker image: https://github.com/kaggle/docker-python\n",
    "# For example, here's several helpful packages to load\n",
    "\n",
    "import numpy as np # linear algebra\n",
    "import pandas as pd # data processing, CSV file I/O (e.g. pd.read_csv)\n",
    "\n",
    "# Input data files are available in the read-only \"../input/\" directory\n",
    "# For example, running this (by clicking run or pressing Shift+Enter) will list all files under the input directory\n",
    "pd.set_option('display.max_colwidth', 225)\n",
    "\n",
    "import os\n",
    "for dirname, _, filenames in os.walk('/kaggle/input'):\n",
    "    for filename in filenames:\n",
    "        print(os.path.join(dirname, filename))\n",
    "\n",
    "# You can write up to 20GB to the current directory (/kaggle/working/) that gets preserved as output when you create a version using \"Save & Run All\" \n",
    "# You can also write temporary files to /kaggle/temp/, but they won't be saved outside of the current session"
   ]
  },
  {
   "cell_type": "code",
   "execution_count": 2,
   "id": "d4eacee5",
   "metadata": {
    "execution": {
     "iopub.execute_input": "2022-10-17T03:27:46.546852Z",
     "iopub.status.busy": "2022-10-17T03:27:46.545987Z",
     "iopub.status.idle": "2022-10-17T03:27:46.619795Z",
     "shell.execute_reply": "2022-10-17T03:27:46.618366Z"
    },
    "papermill": {
     "duration": 0.081005,
     "end_time": "2022-10-17T03:27:46.622686",
     "exception": false,
     "start_time": "2022-10-17T03:27:46.541681",
     "status": "completed"
    },
    "tags": []
   },
   "outputs": [],
   "source": [
    "df = pd.read_csv(\"/kaggle/input/airports/airports_w_headers.csv\")"
   ]
  },
  {
   "cell_type": "code",
   "execution_count": 3,
   "id": "1934749b",
   "metadata": {
    "execution": {
     "iopub.execute_input": "2022-10-17T03:27:46.630332Z",
     "iopub.status.busy": "2022-10-17T03:27:46.629887Z",
     "iopub.status.idle": "2022-10-17T03:27:46.663980Z",
     "shell.execute_reply": "2022-10-17T03:27:46.662839Z"
    },
    "papermill": {
     "duration": 0.042059,
     "end_time": "2022-10-17T03:27:46.667598",
     "exception": false,
     "start_time": "2022-10-17T03:27:46.625539",
     "status": "completed"
    },
    "tags": []
   },
   "outputs": [
    {
     "data": {
      "text/html": [
       "<div>\n",
       "<style scoped>\n",
       "    .dataframe tbody tr th:only-of-type {\n",
       "        vertical-align: middle;\n",
       "    }\n",
       "\n",
       "    .dataframe tbody tr th {\n",
       "        vertical-align: top;\n",
       "    }\n",
       "\n",
       "    .dataframe thead th {\n",
       "        text-align: right;\n",
       "    }\n",
       "</style>\n",
       "<table border=\"1\" class=\"dataframe\">\n",
       "  <thead>\n",
       "    <tr style=\"text-align: right;\">\n",
       "      <th></th>\n",
       "      <th>airport_id</th>\n",
       "      <th>\"name\"</th>\n",
       "      <th>\"city\"</th>\n",
       "      <th>\"country\"</th>\n",
       "      <th>\"iata\"</th>\n",
       "      <th>\"icao\"</th>\n",
       "      <th>\"latitude\"</th>\n",
       "      <th>\"longitude\"</th>\n",
       "      <th>\"altitude\"</th>\n",
       "      <th>\"timezone\"</th>\n",
       "      <th>\"dst\"</th>\n",
       "      <th>\"timezone_name\"</th>\n",
       "      <th>\"type\"</th>\n",
       "      <th>\"source\"</th>\n",
       "    </tr>\n",
       "  </thead>\n",
       "  <tbody>\n",
       "    <tr>\n",
       "      <th>0</th>\n",
       "      <td>1</td>\n",
       "      <td>Goroka Airport</td>\n",
       "      <td>Goroka</td>\n",
       "      <td>Papua New Guinea</td>\n",
       "      <td>GKA</td>\n",
       "      <td>AYGA</td>\n",
       "      <td>-6.081690</td>\n",
       "      <td>145.391998</td>\n",
       "      <td>5282</td>\n",
       "      <td>10.0</td>\n",
       "      <td>U</td>\n",
       "      <td>Pacific/Port_Moresby</td>\n",
       "      <td>airport</td>\n",
       "      <td>OurAirports</td>\n",
       "    </tr>\n",
       "    <tr>\n",
       "      <th>1</th>\n",
       "      <td>2</td>\n",
       "      <td>Madang Airport</td>\n",
       "      <td>Madang</td>\n",
       "      <td>Papua New Guinea</td>\n",
       "      <td>MAG</td>\n",
       "      <td>AYMD</td>\n",
       "      <td>-5.207080</td>\n",
       "      <td>145.789001</td>\n",
       "      <td>20</td>\n",
       "      <td>10.0</td>\n",
       "      <td>U</td>\n",
       "      <td>Pacific/Port_Moresby</td>\n",
       "      <td>airport</td>\n",
       "      <td>OurAirports</td>\n",
       "    </tr>\n",
       "    <tr>\n",
       "      <th>2</th>\n",
       "      <td>3</td>\n",
       "      <td>Mount Hagen Kagamuga Airport</td>\n",
       "      <td>Mount Hagen</td>\n",
       "      <td>Papua New Guinea</td>\n",
       "      <td>HGU</td>\n",
       "      <td>AYMH</td>\n",
       "      <td>-5.826790</td>\n",
       "      <td>144.296005</td>\n",
       "      <td>5388</td>\n",
       "      <td>10.0</td>\n",
       "      <td>U</td>\n",
       "      <td>Pacific/Port_Moresby</td>\n",
       "      <td>airport</td>\n",
       "      <td>OurAirports</td>\n",
       "    </tr>\n",
       "    <tr>\n",
       "      <th>3</th>\n",
       "      <td>4</td>\n",
       "      <td>Nadzab Airport</td>\n",
       "      <td>Nadzab</td>\n",
       "      <td>Papua New Guinea</td>\n",
       "      <td>LAE</td>\n",
       "      <td>AYNZ</td>\n",
       "      <td>-6.569803</td>\n",
       "      <td>146.725977</td>\n",
       "      <td>239</td>\n",
       "      <td>10.0</td>\n",
       "      <td>U</td>\n",
       "      <td>Pacific/Port_Moresby</td>\n",
       "      <td>airport</td>\n",
       "      <td>OurAirports</td>\n",
       "    </tr>\n",
       "  </tbody>\n",
       "</table>\n",
       "</div>"
      ],
      "text/plain": [
       "   airport_id                        \"name\"       \"city\"         \"country\"  \\\n",
       "0           1                Goroka Airport       Goroka  Papua New Guinea   \n",
       "1           2                Madang Airport       Madang  Papua New Guinea   \n",
       "2           3  Mount Hagen Kagamuga Airport  Mount Hagen  Papua New Guinea   \n",
       "3           4                Nadzab Airport       Nadzab  Papua New Guinea   \n",
       "\n",
       "   \"iata\"  \"icao\"   \"latitude\"   \"longitude\"   \"altitude\"   \"timezone\"  \"dst\"  \\\n",
       "0     GKA    AYGA    -6.081690    145.391998         5282         10.0      U   \n",
       "1     MAG    AYMD    -5.207080    145.789001           20         10.0      U   \n",
       "2     HGU    AYMH    -5.826790    144.296005         5388         10.0      U   \n",
       "3     LAE    AYNZ    -6.569803    146.725977          239         10.0      U   \n",
       "\n",
       "        \"timezone_name\"   \"type\"     \"source\"  \n",
       "0  Pacific/Port_Moresby  airport  OurAirports  \n",
       "1  Pacific/Port_Moresby  airport  OurAirports  \n",
       "2  Pacific/Port_Moresby  airport  OurAirports  \n",
       "3  Pacific/Port_Moresby  airport  OurAirports  "
      ]
     },
     "execution_count": 3,
     "metadata": {},
     "output_type": "execute_result"
    }
   ],
   "source": [
    "df.head(4)"
   ]
  },
  {
   "cell_type": "code",
   "execution_count": 4,
   "id": "6077c38d",
   "metadata": {
    "execution": {
     "iopub.execute_input": "2022-10-17T03:27:46.675866Z",
     "iopub.status.busy": "2022-10-17T03:27:46.675419Z",
     "iopub.status.idle": "2022-10-17T03:27:46.681865Z",
     "shell.execute_reply": "2022-10-17T03:27:46.681055Z"
    },
    "papermill": {
     "duration": 0.013343,
     "end_time": "2022-10-17T03:27:46.684059",
     "exception": false,
     "start_time": "2022-10-17T03:27:46.670716",
     "status": "completed"
    },
    "tags": []
   },
   "outputs": [
    {
     "data": {
      "text/plain": [
       "(7698, 14)"
      ]
     },
     "execution_count": 4,
     "metadata": {},
     "output_type": "execute_result"
    }
   ],
   "source": [
    "df.shape"
   ]
  },
  {
   "cell_type": "code",
   "execution_count": 5,
   "id": "eb7f0914",
   "metadata": {
    "execution": {
     "iopub.execute_input": "2022-10-17T03:27:46.692465Z",
     "iopub.status.busy": "2022-10-17T03:27:46.691557Z",
     "iopub.status.idle": "2022-10-17T03:27:46.737668Z",
     "shell.execute_reply": "2022-10-17T03:27:46.735881Z"
    },
    "papermill": {
     "duration": 0.053337,
     "end_time": "2022-10-17T03:27:46.740510",
     "exception": false,
     "start_time": "2022-10-17T03:27:46.687173",
     "status": "completed"
    },
    "tags": []
   },
   "outputs": [
    {
     "data": {
      "text/html": [
       "<div>\n",
       "<style scoped>\n",
       "    .dataframe tbody tr th:only-of-type {\n",
       "        vertical-align: middle;\n",
       "    }\n",
       "\n",
       "    .dataframe tbody tr th {\n",
       "        vertical-align: top;\n",
       "    }\n",
       "\n",
       "    .dataframe thead th {\n",
       "        text-align: right;\n",
       "    }\n",
       "</style>\n",
       "<table border=\"1\" class=\"dataframe\">\n",
       "  <thead>\n",
       "    <tr style=\"text-align: right;\">\n",
       "      <th></th>\n",
       "      <th>airport_id</th>\n",
       "      <th>\"latitude\"</th>\n",
       "      <th>\"longitude\"</th>\n",
       "      <th>\"altitude\"</th>\n",
       "      <th>\"timezone\"</th>\n",
       "    </tr>\n",
       "  </thead>\n",
       "  <tbody>\n",
       "    <tr>\n",
       "      <th>count</th>\n",
       "      <td>7698.000000</td>\n",
       "      <td>7698.000000</td>\n",
       "      <td>7698.000000</td>\n",
       "      <td>7698.000000</td>\n",
       "      <td>7345.000000</td>\n",
       "    </tr>\n",
       "    <tr>\n",
       "      <th>mean</th>\n",
       "      <td>5170.950117</td>\n",
       "      <td>25.808442</td>\n",
       "      <td>-1.390546</td>\n",
       "      <td>1015.873344</td>\n",
       "      <td>0.285303</td>\n",
       "    </tr>\n",
       "    <tr>\n",
       "      <th>std</th>\n",
       "      <td>3777.259930</td>\n",
       "      <td>28.404946</td>\n",
       "      <td>86.519162</td>\n",
       "      <td>1628.775132</td>\n",
       "      <td>5.716150</td>\n",
       "    </tr>\n",
       "    <tr>\n",
       "      <th>min</th>\n",
       "      <td>1.000000</td>\n",
       "      <td>-90.000000</td>\n",
       "      <td>-179.876999</td>\n",
       "      <td>-1266.000000</td>\n",
       "      <td>-12.000000</td>\n",
       "    </tr>\n",
       "    <tr>\n",
       "      <th>25%</th>\n",
       "      <td>1993.250000</td>\n",
       "      <td>6.907983</td>\n",
       "      <td>-78.974699</td>\n",
       "      <td>63.000000</td>\n",
       "      <td>-5.000000</td>\n",
       "    </tr>\n",
       "    <tr>\n",
       "      <th>50%</th>\n",
       "      <td>4068.000000</td>\n",
       "      <td>34.085701</td>\n",
       "      <td>6.375653</td>\n",
       "      <td>352.000000</td>\n",
       "      <td>1.000000</td>\n",
       "    </tr>\n",
       "    <tr>\n",
       "      <th>75%</th>\n",
       "      <td>7728.750000</td>\n",
       "      <td>47.239551</td>\n",
       "      <td>56.000599</td>\n",
       "      <td>1203.000000</td>\n",
       "      <td>4.000000</td>\n",
       "    </tr>\n",
       "    <tr>\n",
       "      <th>max</th>\n",
       "      <td>14110.000000</td>\n",
       "      <td>89.500000</td>\n",
       "      <td>179.951004</td>\n",
       "      <td>14472.000000</td>\n",
       "      <td>13.000000</td>\n",
       "    </tr>\n",
       "  </tbody>\n",
       "</table>\n",
       "</div>"
      ],
      "text/plain": [
       "         airport_id   \"latitude\"   \"longitude\"    \"altitude\"   \"timezone\"\n",
       "count   7698.000000  7698.000000   7698.000000   7698.000000  7345.000000\n",
       "mean    5170.950117    25.808442     -1.390546   1015.873344     0.285303\n",
       "std     3777.259930    28.404946     86.519162   1628.775132     5.716150\n",
       "min        1.000000   -90.000000   -179.876999  -1266.000000   -12.000000\n",
       "25%     1993.250000     6.907983    -78.974699     63.000000    -5.000000\n",
       "50%     4068.000000    34.085701      6.375653    352.000000     1.000000\n",
       "75%     7728.750000    47.239551     56.000599   1203.000000     4.000000\n",
       "max    14110.000000    89.500000    179.951004  14472.000000    13.000000"
      ]
     },
     "execution_count": 5,
     "metadata": {},
     "output_type": "execute_result"
    }
   ],
   "source": [
    "df.describe()"
   ]
  },
  {
   "cell_type": "code",
   "execution_count": 6,
   "id": "cb843708",
   "metadata": {
    "execution": {
     "iopub.execute_input": "2022-10-17T03:27:46.750149Z",
     "iopub.status.busy": "2022-10-17T03:27:46.748757Z",
     "iopub.status.idle": "2022-10-17T03:27:46.815260Z",
     "shell.execute_reply": "2022-10-17T03:27:46.814050Z"
    },
    "papermill": {
     "duration": 0.074553,
     "end_time": "2022-10-17T03:27:46.818515",
     "exception": false,
     "start_time": "2022-10-17T03:27:46.743962",
     "status": "completed"
    },
    "tags": []
   },
   "outputs": [
    {
     "data": {
      "text/html": [
       "<div>\n",
       "<style scoped>\n",
       "    .dataframe tbody tr th:only-of-type {\n",
       "        vertical-align: middle;\n",
       "    }\n",
       "\n",
       "    .dataframe tbody tr th {\n",
       "        vertical-align: top;\n",
       "    }\n",
       "\n",
       "    .dataframe thead th {\n",
       "        text-align: right;\n",
       "    }\n",
       "</style>\n",
       "<table border=\"1\" class=\"dataframe\">\n",
       "  <thead>\n",
       "    <tr style=\"text-align: right;\">\n",
       "      <th></th>\n",
       "      <th>\"name\"</th>\n",
       "      <th>\"city\"</th>\n",
       "      <th>\"country\"</th>\n",
       "      <th>\"iata\"</th>\n",
       "      <th>\"icao\"</th>\n",
       "      <th>\"dst\"</th>\n",
       "      <th>\"timezone_name\"</th>\n",
       "      <th>\"type\"</th>\n",
       "      <th>\"source\"</th>\n",
       "    </tr>\n",
       "  </thead>\n",
       "  <tbody>\n",
       "    <tr>\n",
       "      <th>count</th>\n",
       "      <td>7698</td>\n",
       "      <td>7646</td>\n",
       "      <td>7698</td>\n",
       "      <td>6072</td>\n",
       "      <td>7697</td>\n",
       "      <td>7345</td>\n",
       "      <td>6677</td>\n",
       "      <td>7698</td>\n",
       "      <td>7698</td>\n",
       "    </tr>\n",
       "    <tr>\n",
       "      <th>unique</th>\n",
       "      <td>7658</td>\n",
       "      <td>6954</td>\n",
       "      <td>237</td>\n",
       "      <td>6072</td>\n",
       "      <td>7697</td>\n",
       "      <td>7</td>\n",
       "      <td>307</td>\n",
       "      <td>1</td>\n",
       "      <td>1</td>\n",
       "    </tr>\n",
       "    <tr>\n",
       "      <th>top</th>\n",
       "      <td>San Pedro Airport</td>\n",
       "      <td>London</td>\n",
       "      <td>United States</td>\n",
       "      <td>GKA</td>\n",
       "      <td>AYGA</td>\n",
       "      <td>U</td>\n",
       "      <td>America/New_York</td>\n",
       "      <td>airport</td>\n",
       "      <td>OurAirports</td>\n",
       "    </tr>\n",
       "    <tr>\n",
       "      <th>freq</th>\n",
       "      <td>3</td>\n",
       "      <td>9</td>\n",
       "      <td>1512</td>\n",
       "      <td>1</td>\n",
       "      <td>1</td>\n",
       "      <td>1862</td>\n",
       "      <td>449</td>\n",
       "      <td>7698</td>\n",
       "      <td>7698</td>\n",
       "    </tr>\n",
       "  </tbody>\n",
       "</table>\n",
       "</div>"
      ],
      "text/plain": [
       "                   \"name\"  \"city\"      \"country\"  \"iata\"  \"icao\"  \"dst\"  \\\n",
       "count                7698    7646           7698    6072    7697   7345   \n",
       "unique               7658    6954            237    6072    7697      7   \n",
       "top     San Pedro Airport  London  United States     GKA    AYGA      U   \n",
       "freq                    3       9           1512       1       1   1862   \n",
       "\n",
       "         \"timezone_name\"   \"type\"     \"source\"  \n",
       "count               6677     7698         7698  \n",
       "unique               307        1            1  \n",
       "top     America/New_York  airport  OurAirports  \n",
       "freq                 449     7698         7698  "
      ]
     },
     "execution_count": 6,
     "metadata": {},
     "output_type": "execute_result"
    }
   ],
   "source": [
    "df.describe(include=\"object\")"
   ]
  },
  {
   "cell_type": "code",
   "execution_count": null,
   "id": "609b6b48",
   "metadata": {
    "papermill": {
     "duration": 0.004423,
     "end_time": "2022-10-17T03:27:46.827986",
     "exception": false,
     "start_time": "2022-10-17T03:27:46.823563",
     "status": "completed"
    },
    "tags": []
   },
   "outputs": [],
   "source": []
  }
 ],
 "metadata": {
  "kernelspec": {
   "display_name": "Python 3",
   "language": "python",
   "name": "python3"
  },
  "language_info": {
   "codemirror_mode": {
    "name": "ipython",
    "version": 3
   },
   "file_extension": ".py",
   "mimetype": "text/x-python",
   "name": "python",
   "nbconvert_exporter": "python",
   "pygments_lexer": "ipython3",
   "version": "3.7.12"
  },
  "papermill": {
   "default_parameters": {},
   "duration": 10.762683,
   "end_time": "2022-10-17T03:27:47.557245",
   "environment_variables": {},
   "exception": null,
   "input_path": "__notebook__.ipynb",
   "output_path": "__notebook__.ipynb",
   "parameters": {},
   "start_time": "2022-10-17T03:27:36.794562",
   "version": "2.3.4"
  }
 },
 "nbformat": 4,
 "nbformat_minor": 5
}
