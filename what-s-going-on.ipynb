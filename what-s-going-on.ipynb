{
 "cells": [
  {
   "cell_type": "code",
   "execution_count": 1,
   "id": "6be39e58",
   "metadata": {
    "_cell_guid": "b1076dfc-b9ad-4769-8c92-a6c4dae69d19",
    "_uuid": "8f2839f25d086af736a60e9eeb907d3b93b6e0e5",
    "execution": {
     "iopub.execute_input": "2022-11-01T05:10:50.309371Z",
     "iopub.status.busy": "2022-11-01T05:10:50.307878Z",
     "iopub.status.idle": "2022-11-01T05:10:51.582439Z",
     "shell.execute_reply": "2022-11-01T05:10:51.581056Z"
    },
    "papermill": {
     "duration": 1.286231,
     "end_time": "2022-11-01T05:10:51.585922",
     "exception": false,
     "start_time": "2022-11-01T05:10:50.299691",
     "status": "completed"
    },
    "tags": []
   },
   "outputs": [],
   "source": [
    "import os\n",
    "import numpy as np # linear algebra\n",
    "import pandas as pd # data processing, CSV file I/O (e.g. pd.read_csv)\n",
    "from sklearn.metrics import log_loss\n",
    "\n",
    "#for dirname, _, filenames in os.walk('/kaggle/input'):\n",
    " #   for filename in filenames:\n",
    "  #      print(os.path.join(dirname, filename))"
   ]
  },
  {
   "cell_type": "markdown",
   "id": "2914377d",
   "metadata": {
    "papermill": {
     "duration": 0.003428,
     "end_time": "2022-11-01T05:10:51.593498",
     "exception": false,
     "start_time": "2022-11-01T05:10:51.590070",
     "status": "completed"
    },
    "tags": []
   },
   "source": [
    "If you want to learn what Log_Loss is you can visit this notebook by GM DANB:\n",
    "https://www.kaggle.com/code/dansbecker/what-is-log-loss/notebook"
   ]
  },
  {
   "cell_type": "markdown",
   "id": "270197d3",
   "metadata": {
    "papermill": {
     "duration": 0.003361,
     "end_time": "2022-11-01T05:10:51.600568",
     "exception": false,
     "start_time": "2022-11-01T05:10:51.597207",
     "status": "completed"
    },
    "tags": []
   },
   "source": [
    "# This text is for understanding the requirements of the competition:\n",
    "\n",
    "For a while forget what this competition is all about, Recall when you are solving a competition on Kaggle related to Binary Classification, when you submit your submission file it give you log loss(sometimes accuracy) to let you know how better your model was. (Higher the accuacy better the model AND lower the log_loss better the model).\n",
    "\n",
    "But on the public leaderboard what they tell you is your model performance on partial data lets say on 24%, and they say remaining 76% will be included in final private board.\n",
    "\n",
    "So, what we do there, based on the result of that 24% data, we try to improve our model.\n",
    "\n",
    "Something same is going in this competition. They have provided 5000 submission files along with their log_loss score as their names. But thats for only 50% of the data, Here you have to predict the probability of the classes based on other submissions prediction and their log_loss, for remaining 50% of the data.\n",
    "\n",
    "1-20k Labels Available  ---------> predictions available ------------> Log_Loss available\n",
    "\n",
    "20k-40k Labels Missing  ---------> predictions available ------------> Log_Loss available\n",
    "\n",
    "                                   (You need to find best predictions to minimize Log_Loss for 20k to 40k Labels)\n",
    "\n",
    "Thats all for now.\n",
    "\n",
    "If someone wants to add anything, you are welcome to share your thoughts in Comments, I will add it here with your name.\n",
    "\n",
    "Thanks."
   ]
  },
  {
   "cell_type": "code",
   "execution_count": 2,
   "id": "e205da0e",
   "metadata": {
    "execution": {
     "iopub.execute_input": "2022-11-01T05:10:51.610204Z",
     "iopub.status.busy": "2022-11-01T05:10:51.609759Z",
     "iopub.status.idle": "2022-11-01T05:10:51.726512Z",
     "shell.execute_reply": "2022-11-01T05:10:51.725351Z"
    },
    "papermill": {
     "duration": 0.125089,
     "end_time": "2022-11-01T05:10:51.729372",
     "exception": false,
     "start_time": "2022-11-01T05:10:51.604283",
     "status": "completed"
    },
    "tags": []
   },
   "outputs": [
    {
     "data": {
      "text/plain": [
       "5000"
      ]
     },
     "execution_count": 2,
     "metadata": {},
     "output_type": "execute_result"
    }
   ],
   "source": [
    "path=\"/kaggle/input/tabular-playground-series-nov-2022/submission_files\"\n",
    "li = os.listdir(path)\n",
    "li=[path+\"/\"+a for a in li]\n",
    "len(li)"
   ]
  },
  {
   "cell_type": "code",
   "execution_count": 3,
   "id": "1016db9a",
   "metadata": {
    "execution": {
     "iopub.execute_input": "2022-11-01T05:10:51.739593Z",
     "iopub.status.busy": "2022-11-01T05:10:51.738907Z",
     "iopub.status.idle": "2022-11-01T05:10:51.792966Z",
     "shell.execute_reply": "2022-11-01T05:10:51.790991Z"
    },
    "papermill": {
     "duration": 0.063214,
     "end_time": "2022-11-01T05:10:51.796591",
     "exception": false,
     "start_time": "2022-11-01T05:10:51.733377",
     "status": "completed"
    },
    "tags": []
   },
   "outputs": [],
   "source": [
    "pred1 = pd.read_csv(li[0],index_col=\"id\")"
   ]
  },
  {
   "cell_type": "code",
   "execution_count": 4,
   "id": "79795987",
   "metadata": {
    "execution": {
     "iopub.execute_input": "2022-11-01T05:10:51.808701Z",
     "iopub.status.busy": "2022-11-01T05:10:51.807692Z",
     "iopub.status.idle": "2022-11-01T05:10:51.830146Z",
     "shell.execute_reply": "2022-11-01T05:10:51.828975Z"
    },
    "papermill": {
     "duration": 0.032928,
     "end_time": "2022-11-01T05:10:51.833612",
     "exception": false,
     "start_time": "2022-11-01T05:10:51.800684",
     "status": "completed"
    },
    "tags": []
   },
   "outputs": [
    {
     "data": {
      "text/html": [
       "<div>\n",
       "<style scoped>\n",
       "    .dataframe tbody tr th:only-of-type {\n",
       "        vertical-align: middle;\n",
       "    }\n",
       "\n",
       "    .dataframe tbody tr th {\n",
       "        vertical-align: top;\n",
       "    }\n",
       "\n",
       "    .dataframe thead th {\n",
       "        text-align: right;\n",
       "    }\n",
       "</style>\n",
       "<table border=\"1\" class=\"dataframe\">\n",
       "  <thead>\n",
       "    <tr style=\"text-align: right;\">\n",
       "      <th></th>\n",
       "      <th>pred</th>\n",
       "    </tr>\n",
       "    <tr>\n",
       "      <th>id</th>\n",
       "      <th></th>\n",
       "    </tr>\n",
       "  </thead>\n",
       "  <tbody>\n",
       "    <tr>\n",
       "      <th>0</th>\n",
       "      <td>0.713797</td>\n",
       "    </tr>\n",
       "    <tr>\n",
       "      <th>1</th>\n",
       "      <td>0.663330</td>\n",
       "    </tr>\n",
       "    <tr>\n",
       "      <th>2</th>\n",
       "      <td>0.772586</td>\n",
       "    </tr>\n",
       "    <tr>\n",
       "      <th>3</th>\n",
       "      <td>0.710306</td>\n",
       "    </tr>\n",
       "    <tr>\n",
       "      <th>4</th>\n",
       "      <td>0.955168</td>\n",
       "    </tr>\n",
       "    <tr>\n",
       "      <th>...</th>\n",
       "      <td>...</td>\n",
       "    </tr>\n",
       "    <tr>\n",
       "      <th>39995</th>\n",
       "      <td>0.559447</td>\n",
       "    </tr>\n",
       "    <tr>\n",
       "      <th>39996</th>\n",
       "      <td>0.599315</td>\n",
       "    </tr>\n",
       "    <tr>\n",
       "      <th>39997</th>\n",
       "      <td>0.703259</td>\n",
       "    </tr>\n",
       "    <tr>\n",
       "      <th>39998</th>\n",
       "      <td>0.868605</td>\n",
       "    </tr>\n",
       "    <tr>\n",
       "      <th>39999</th>\n",
       "      <td>0.661756</td>\n",
       "    </tr>\n",
       "  </tbody>\n",
       "</table>\n",
       "<p>40000 rows × 1 columns</p>\n",
       "</div>"
      ],
      "text/plain": [
       "           pred\n",
       "id             \n",
       "0      0.713797\n",
       "1      0.663330\n",
       "2      0.772586\n",
       "3      0.710306\n",
       "4      0.955168\n",
       "...         ...\n",
       "39995  0.559447\n",
       "39996  0.599315\n",
       "39997  0.703259\n",
       "39998  0.868605\n",
       "39999  0.661756\n",
       "\n",
       "[40000 rows x 1 columns]"
      ]
     },
     "execution_count": 4,
     "metadata": {},
     "output_type": "execute_result"
    }
   ],
   "source": [
    "pred1"
   ]
  },
  {
   "cell_type": "code",
   "execution_count": 5,
   "id": "42248404",
   "metadata": {
    "execution": {
     "iopub.execute_input": "2022-11-01T05:10:51.851080Z",
     "iopub.status.busy": "2022-11-01T05:10:51.847765Z",
     "iopub.status.idle": "2022-11-01T05:10:51.875089Z",
     "shell.execute_reply": "2022-11-01T05:10:51.873752Z"
    },
    "papermill": {
     "duration": 0.038643,
     "end_time": "2022-11-01T05:10:51.877807",
     "exception": false,
     "start_time": "2022-11-01T05:10:51.839164",
     "status": "completed"
    },
    "tags": []
   },
   "outputs": [],
   "source": [
    "labels = pd.read_csv(\"../input/tabular-playground-series-nov-2022/train_labels.csv\",index_col=\"id\")"
   ]
  },
  {
   "cell_type": "code",
   "execution_count": 6,
   "id": "2a360587",
   "metadata": {
    "execution": {
     "iopub.execute_input": "2022-11-01T05:10:51.895014Z",
     "iopub.status.busy": "2022-11-01T05:10:51.893799Z",
     "iopub.status.idle": "2022-11-01T05:10:51.909947Z",
     "shell.execute_reply": "2022-11-01T05:10:51.908752Z"
    },
    "papermill": {
     "duration": 0.027638,
     "end_time": "2022-11-01T05:10:51.912233",
     "exception": false,
     "start_time": "2022-11-01T05:10:51.884595",
     "status": "completed"
    },
    "tags": []
   },
   "outputs": [
    {
     "data": {
      "text/html": [
       "<div>\n",
       "<style scoped>\n",
       "    .dataframe tbody tr th:only-of-type {\n",
       "        vertical-align: middle;\n",
       "    }\n",
       "\n",
       "    .dataframe tbody tr th {\n",
       "        vertical-align: top;\n",
       "    }\n",
       "\n",
       "    .dataframe thead th {\n",
       "        text-align: right;\n",
       "    }\n",
       "</style>\n",
       "<table border=\"1\" class=\"dataframe\">\n",
       "  <thead>\n",
       "    <tr style=\"text-align: right;\">\n",
       "      <th></th>\n",
       "      <th>label</th>\n",
       "    </tr>\n",
       "    <tr>\n",
       "      <th>id</th>\n",
       "      <th></th>\n",
       "    </tr>\n",
       "  </thead>\n",
       "  <tbody>\n",
       "    <tr>\n",
       "      <th>0</th>\n",
       "      <td>0</td>\n",
       "    </tr>\n",
       "    <tr>\n",
       "      <th>1</th>\n",
       "      <td>1</td>\n",
       "    </tr>\n",
       "    <tr>\n",
       "      <th>2</th>\n",
       "      <td>1</td>\n",
       "    </tr>\n",
       "    <tr>\n",
       "      <th>3</th>\n",
       "      <td>1</td>\n",
       "    </tr>\n",
       "    <tr>\n",
       "      <th>4</th>\n",
       "      <td>0</td>\n",
       "    </tr>\n",
       "    <tr>\n",
       "      <th>...</th>\n",
       "      <td>...</td>\n",
       "    </tr>\n",
       "    <tr>\n",
       "      <th>19995</th>\n",
       "      <td>1</td>\n",
       "    </tr>\n",
       "    <tr>\n",
       "      <th>19996</th>\n",
       "      <td>1</td>\n",
       "    </tr>\n",
       "    <tr>\n",
       "      <th>19997</th>\n",
       "      <td>0</td>\n",
       "    </tr>\n",
       "    <tr>\n",
       "      <th>19998</th>\n",
       "      <td>0</td>\n",
       "    </tr>\n",
       "    <tr>\n",
       "      <th>19999</th>\n",
       "      <td>1</td>\n",
       "    </tr>\n",
       "  </tbody>\n",
       "</table>\n",
       "<p>20000 rows × 1 columns</p>\n",
       "</div>"
      ],
      "text/plain": [
       "       label\n",
       "id          \n",
       "0          0\n",
       "1          1\n",
       "2          1\n",
       "3          1\n",
       "4          0\n",
       "...      ...\n",
       "19995      1\n",
       "19996      1\n",
       "19997      0\n",
       "19998      0\n",
       "19999      1\n",
       "\n",
       "[20000 rows x 1 columns]"
      ]
     },
     "execution_count": 6,
     "metadata": {},
     "output_type": "execute_result"
    }
   ],
   "source": [
    "labels"
   ]
  },
  {
   "cell_type": "code",
   "execution_count": 7,
   "id": "3ff092e9",
   "metadata": {
    "execution": {
     "iopub.execute_input": "2022-11-01T05:10:51.922939Z",
     "iopub.status.busy": "2022-11-01T05:10:51.922101Z",
     "iopub.status.idle": "2022-11-01T05:10:51.948158Z",
     "shell.execute_reply": "2022-11-01T05:10:51.946993Z"
    },
    "papermill": {
     "duration": 0.034349,
     "end_time": "2022-11-01T05:10:51.950739",
     "exception": false,
     "start_time": "2022-11-01T05:10:51.916390",
     "status": "completed"
    },
    "tags": []
   },
   "outputs": [],
   "source": [
    "df2 = pd.read_csv(\"../input/tabular-playground-series-nov-2022/sample_submission.csv\",index_col=\"id\")"
   ]
  },
  {
   "cell_type": "markdown",
   "id": "9a7e1c8d",
   "metadata": {
    "papermill": {
     "duration": 0.00376,
     "end_time": "2022-11-01T05:10:51.959135",
     "exception": false,
     "start_time": "2022-11-01T05:10:51.955375",
     "status": "completed"
    },
    "tags": []
   },
   "source": [
    "Submit best prediction for 20k to 40k in given pattern"
   ]
  },
  {
   "cell_type": "code",
   "execution_count": 8,
   "id": "6dbc8cff",
   "metadata": {
    "execution": {
     "iopub.execute_input": "2022-11-01T05:10:51.969783Z",
     "iopub.status.busy": "2022-11-01T05:10:51.968915Z",
     "iopub.status.idle": "2022-11-01T05:10:51.981185Z",
     "shell.execute_reply": "2022-11-01T05:10:51.980224Z"
    },
    "papermill": {
     "duration": 0.020385,
     "end_time": "2022-11-01T05:10:51.983508",
     "exception": false,
     "start_time": "2022-11-01T05:10:51.963123",
     "status": "completed"
    },
    "tags": []
   },
   "outputs": [
    {
     "data": {
      "text/html": [
       "<div>\n",
       "<style scoped>\n",
       "    .dataframe tbody tr th:only-of-type {\n",
       "        vertical-align: middle;\n",
       "    }\n",
       "\n",
       "    .dataframe tbody tr th {\n",
       "        vertical-align: top;\n",
       "    }\n",
       "\n",
       "    .dataframe thead th {\n",
       "        text-align: right;\n",
       "    }\n",
       "</style>\n",
       "<table border=\"1\" class=\"dataframe\">\n",
       "  <thead>\n",
       "    <tr style=\"text-align: right;\">\n",
       "      <th></th>\n",
       "      <th>pred</th>\n",
       "    </tr>\n",
       "    <tr>\n",
       "      <th>id</th>\n",
       "      <th></th>\n",
       "    </tr>\n",
       "  </thead>\n",
       "  <tbody>\n",
       "    <tr>\n",
       "      <th>20000</th>\n",
       "      <td>0.640707</td>\n",
       "    </tr>\n",
       "    <tr>\n",
       "      <th>20001</th>\n",
       "      <td>0.636904</td>\n",
       "    </tr>\n",
       "    <tr>\n",
       "      <th>20002</th>\n",
       "      <td>0.392496</td>\n",
       "    </tr>\n",
       "    <tr>\n",
       "      <th>20003</th>\n",
       "      <td>0.588658</td>\n",
       "    </tr>\n",
       "    <tr>\n",
       "      <th>20004</th>\n",
       "      <td>0.783603</td>\n",
       "    </tr>\n",
       "    <tr>\n",
       "      <th>...</th>\n",
       "      <td>...</td>\n",
       "    </tr>\n",
       "    <tr>\n",
       "      <th>39995</th>\n",
       "      <td>0.382515</td>\n",
       "    </tr>\n",
       "    <tr>\n",
       "      <th>39996</th>\n",
       "      <td>0.352498</td>\n",
       "    </tr>\n",
       "    <tr>\n",
       "      <th>39997</th>\n",
       "      <td>0.577554</td>\n",
       "    </tr>\n",
       "    <tr>\n",
       "      <th>39998</th>\n",
       "      <td>0.712353</td>\n",
       "    </tr>\n",
       "    <tr>\n",
       "      <th>39999</th>\n",
       "      <td>0.483215</td>\n",
       "    </tr>\n",
       "  </tbody>\n",
       "</table>\n",
       "<p>20000 rows × 1 columns</p>\n",
       "</div>"
      ],
      "text/plain": [
       "           pred\n",
       "id             \n",
       "20000  0.640707\n",
       "20001  0.636904\n",
       "20002  0.392496\n",
       "20003  0.588658\n",
       "20004  0.783603\n",
       "...         ...\n",
       "39995  0.382515\n",
       "39996  0.352498\n",
       "39997  0.577554\n",
       "39998  0.712353\n",
       "39999  0.483215\n",
       "\n",
       "[20000 rows x 1 columns]"
      ]
     },
     "execution_count": 8,
     "metadata": {},
     "output_type": "execute_result"
    }
   ],
   "source": [
    "df2"
   ]
  },
  {
   "cell_type": "code",
   "execution_count": null,
   "id": "971bb424",
   "metadata": {
    "papermill": {
     "duration": 0.00381,
     "end_time": "2022-11-01T05:10:51.991594",
     "exception": false,
     "start_time": "2022-11-01T05:10:51.987784",
     "status": "completed"
    },
    "tags": []
   },
   "outputs": [],
   "source": []
  }
 ],
 "metadata": {
  "kernelspec": {
   "display_name": "Python 3",
   "language": "python",
   "name": "python3"
  },
  "language_info": {
   "codemirror_mode": {
    "name": "ipython",
    "version": 3
   },
   "file_extension": ".py",
   "mimetype": "text/x-python",
   "name": "python",
   "nbconvert_exporter": "python",
   "pygments_lexer": "ipython3",
   "version": "3.7.12"
  },
  "papermill": {
   "default_parameters": {},
   "duration": 12.170478,
   "end_time": "2022-11-01T05:10:53.021748",
   "environment_variables": {},
   "exception": null,
   "input_path": "__notebook__.ipynb",
   "output_path": "__notebook__.ipynb",
   "parameters": {},
   "start_time": "2022-11-01T05:10:40.851270",
   "version": "2.3.4"
  }
 },
 "nbformat": 4,
 "nbformat_minor": 5
}
